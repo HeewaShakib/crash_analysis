{
 "cells": [
  {
   "cell_type": "code",
   "execution_count": 2,
   "id": "6659a30a-09d8-4ffd-b73d-1707604b9646",
   "metadata": {},
   "outputs": [],
   "source": [
    "import pandas as pd\n",
    "import numpy as np\n",
    "import matplotlib.pyplot as plt\n",
    "import seaborn as sns\n",
    "#plt.style.use(\"ggplot\")# use a style sheet for a matplotlib and seaborn style plots \n",
    "pd.set_option(\"display.max_columns\", 200)\n",
    "colors=[\"yellow\", \"violet\", \"pink\",\"grey\", \"blue\",\"orange\",\"brown\", \"red\",\"green\"]"
   ]
  },
  {
   "cell_type": "code",
   "execution_count": 3,
   "id": "fa5369be-2bb0-4069-8647-18240b8ec104",
   "metadata": {},
   "outputs": [
    {
     "name": "stderr",
     "output_type": "stream",
     "text": [
      "/tmp/ipykernel_17058/1141081034.py:1: DtypeWarning: Columns (1) have mixed types. Specify dtype option on import or set low_memory=False.\n",
      "  df1=pd.read_csv(\"/home/heewa/Desktop/crash_data/crash_data.csv\")\n"
     ]
    }
   ],
   "source": [
    "df1=pd.read_csv(\"/home/heewa/Desktop/crash_data/crash_data.csv\")"
   ]
  },
  {
   "cell_type": "code",
   "execution_count": 16,
   "id": "fe69fcb1-7b69-490b-b50a-c6aa16ce58af",
   "metadata": {},
   "outputs": [
    {
     "data": {
      "text/plain": [
       "Agency Name\n",
       "Montgomery County Police     137085\n",
       "MONTGOMERY                    10659\n",
       "Rockville Police Departme      9758\n",
       "Gaithersburg Police Depar      7748\n",
       "Takoma Park Police Depart      2958\n",
       "Maryland-National Capital      1142\n",
       "ROCKVILLE                       630\n",
       "GAITHERSBURG                    390\n",
       "TAKOMA                          157\n",
       "MCPARK                           77\n",
       "Name: count, dtype: int64"
      ]
     },
     "execution_count": 16,
     "metadata": {},
     "output_type": "execute_result"
    }
   ],
   "source": [
    "df1[\"Agency Name\"].value_counts()"
   ]
  },
  {
   "cell_type": "code",
   "execution_count": 8,
   "id": "d6451414-93f0-4de9-bfc5-7a324adf37af",
   "metadata": {},
   "outputs": [
    {
     "data": {
      "text/plain": [
       "(170604, 43)"
      ]
     },
     "execution_count": 8,
     "metadata": {},
     "output_type": "execute_result"
    }
   ],
   "source": [
    "df1.shape"
   ]
  },
  {
   "cell_type": "code",
   "execution_count": 9,
   "id": "2ca13a58-6b94-404f-8f28-c4b10949a8be",
   "metadata": {},
   "outputs": [
    {
     "data": {
      "text/html": [
       "<div>\n",
       "<style scoped>\n",
       "    .dataframe tbody tr th:only-of-type {\n",
       "        vertical-align: middle;\n",
       "    }\n",
       "\n",
       "    .dataframe tbody tr th {\n",
       "        vertical-align: top;\n",
       "    }\n",
       "\n",
       "    .dataframe thead th {\n",
       "        text-align: right;\n",
       "    }\n",
       "</style>\n",
       "<table border=\"1\" class=\"dataframe\">\n",
       "  <thead>\n",
       "    <tr style=\"text-align: right;\">\n",
       "      <th></th>\n",
       "      <th>Report Number</th>\n",
       "      <th>Local Case Number</th>\n",
       "      <th>Agency Name</th>\n",
       "      <th>ACRS Report Type</th>\n",
       "      <th>Crash Date/Time</th>\n",
       "      <th>Route Type</th>\n",
       "      <th>Road Name</th>\n",
       "      <th>Cross-Street Type</th>\n",
       "      <th>Cross-Street Name</th>\n",
       "      <th>Off-Road Description</th>\n",
       "      <th>Municipality</th>\n",
       "      <th>Related Non-Motorist</th>\n",
       "      <th>Collision Type</th>\n",
       "      <th>Weather</th>\n",
       "      <th>Surface Condition</th>\n",
       "      <th>Light</th>\n",
       "      <th>Traffic Control</th>\n",
       "      <th>Driver Substance Abuse</th>\n",
       "      <th>Non-Motorist Substance Abuse</th>\n",
       "      <th>Person ID</th>\n",
       "      <th>Driver At Fault</th>\n",
       "      <th>Injury Severity</th>\n",
       "      <th>Circumstance</th>\n",
       "      <th>Driver Distracted By</th>\n",
       "      <th>Drivers License State</th>\n",
       "      <th>Vehicle ID</th>\n",
       "      <th>Vehicle Damage Extent</th>\n",
       "      <th>Vehicle First Impact Location</th>\n",
       "      <th>Vehicle Second Impact Location</th>\n",
       "      <th>Vehicle Body Type</th>\n",
       "      <th>Vehicle Movement</th>\n",
       "      <th>Vehicle Continuing Dir</th>\n",
       "      <th>Vehicle Going Dir</th>\n",
       "      <th>Speed Limit</th>\n",
       "      <th>Driverless Vehicle</th>\n",
       "      <th>Parked Vehicle</th>\n",
       "      <th>Vehicle Year</th>\n",
       "      <th>Vehicle Make</th>\n",
       "      <th>Vehicle Model</th>\n",
       "      <th>Equipment Problems</th>\n",
       "      <th>Latitude</th>\n",
       "      <th>Longitude</th>\n",
       "      <th>Location</th>\n",
       "    </tr>\n",
       "  </thead>\n",
       "  <tbody>\n",
       "    <tr>\n",
       "      <th>0</th>\n",
       "      <td>MCP3040003N</td>\n",
       "      <td>190026050</td>\n",
       "      <td>Montgomery County Police</td>\n",
       "      <td>Property Damage Crash</td>\n",
       "      <td>05/31/2019 03:00:00 PM</td>\n",
       "      <td>NaN</td>\n",
       "      <td>NaN</td>\n",
       "      <td>NaN</td>\n",
       "      <td>NaN</td>\n",
       "      <td>PARKING LOT OF 3215 SPARTAN RD</td>\n",
       "      <td>NaN</td>\n",
       "      <td>NaN</td>\n",
       "      <td>OTHER</td>\n",
       "      <td>CLEAR</td>\n",
       "      <td>NaN</td>\n",
       "      <td>DAYLIGHT</td>\n",
       "      <td>NaN</td>\n",
       "      <td>UNKNOWN</td>\n",
       "      <td>NaN</td>\n",
       "      <td>DE2A24CD-7919-4F8D-BABF-5B75CE12D21E</td>\n",
       "      <td>Yes</td>\n",
       "      <td>NO APPARENT INJURY</td>\n",
       "      <td>NaN</td>\n",
       "      <td>UNKNOWN</td>\n",
       "      <td>NaN</td>\n",
       "      <td>165AD539-A8C8-4004-AF73-B7DCAAA8B3CC</td>\n",
       "      <td>SUPERFICIAL</td>\n",
       "      <td>ONE OCLOCK</td>\n",
       "      <td>ONE OCLOCK</td>\n",
       "      <td>PASSENGER CAR</td>\n",
       "      <td>PARKING</td>\n",
       "      <td>North</td>\n",
       "      <td>North</td>\n",
       "      <td>15</td>\n",
       "      <td>No</td>\n",
       "      <td>No</td>\n",
       "      <td>2004</td>\n",
       "      <td>HONDA</td>\n",
       "      <td>TK</td>\n",
       "      <td>UNKNOWN</td>\n",
       "      <td>39.150044</td>\n",
       "      <td>-77.063089</td>\n",
       "      <td>(39.15004368, -77.06308884)</td>\n",
       "    </tr>\n",
       "    <tr>\n",
       "      <th>1</th>\n",
       "      <td>MCP1307000K</td>\n",
       "      <td>190024786</td>\n",
       "      <td>Montgomery County Police</td>\n",
       "      <td>Property Damage Crash</td>\n",
       "      <td>05/24/2019 05:00:00 PM</td>\n",
       "      <td>NaN</td>\n",
       "      <td>NaN</td>\n",
       "      <td>NaN</td>\n",
       "      <td>NaN</td>\n",
       "      <td>PARKING LOT</td>\n",
       "      <td>NaN</td>\n",
       "      <td>NaN</td>\n",
       "      <td>NaN</td>\n",
       "      <td>CLEAR</td>\n",
       "      <td>NaN</td>\n",
       "      <td>DAYLIGHT</td>\n",
       "      <td>NaN</td>\n",
       "      <td>NaN</td>\n",
       "      <td>NaN</td>\n",
       "      <td>6208FA7B-5DC4-4B54-AD60-0C06DFE2AE81</td>\n",
       "      <td>Yes</td>\n",
       "      <td>NO APPARENT INJURY</td>\n",
       "      <td>NaN</td>\n",
       "      <td>NOT DISTRACTED</td>\n",
       "      <td>XX</td>\n",
       "      <td>10239493-D667-42F9-A3D2-820FE184CB6C</td>\n",
       "      <td>FUNCTIONAL</td>\n",
       "      <td>ONE OCLOCK</td>\n",
       "      <td>ONE OCLOCK</td>\n",
       "      <td>PASSENGER CAR</td>\n",
       "      <td>PARKING</td>\n",
       "      <td>Unknown</td>\n",
       "      <td>Unknown</td>\n",
       "      <td>0</td>\n",
       "      <td>No</td>\n",
       "      <td>No</td>\n",
       "      <td>0</td>\n",
       "      <td>UNK</td>\n",
       "      <td>UNK</td>\n",
       "      <td>NaN</td>\n",
       "      <td>39.199047</td>\n",
       "      <td>-77.250743</td>\n",
       "      <td>(39.19904667, -77.25074333)</td>\n",
       "    </tr>\n",
       "    <tr>\n",
       "      <th>2</th>\n",
       "      <td>MCP2846008X</td>\n",
       "      <td>230034260</td>\n",
       "      <td>Montgomery County Police</td>\n",
       "      <td>Property Damage Crash</td>\n",
       "      <td>07/17/2023 10:45:00 AM</td>\n",
       "      <td>County</td>\n",
       "      <td>SELFRIDGE RD</td>\n",
       "      <td>County</td>\n",
       "      <td>RANDOLPH RD</td>\n",
       "      <td>NaN</td>\n",
       "      <td>NaN</td>\n",
       "      <td>NaN</td>\n",
       "      <td>OTHER</td>\n",
       "      <td>CLEAR</td>\n",
       "      <td>DRY</td>\n",
       "      <td>DARK LIGHTS ON</td>\n",
       "      <td>TRAFFIC SIGNAL</td>\n",
       "      <td>UNKNOWN</td>\n",
       "      <td>NaN</td>\n",
       "      <td>9ACC5A7E-47A1-438F-BF0E-40B0A8632055</td>\n",
       "      <td>Yes</td>\n",
       "      <td>NO APPARENT INJURY</td>\n",
       "      <td>NaN</td>\n",
       "      <td>INATTENTIVE OR LOST IN THOUGHT</td>\n",
       "      <td>MD</td>\n",
       "      <td>8B61B8E0-5473-4C78-A654-6029684ABD03</td>\n",
       "      <td>SUPERFICIAL</td>\n",
       "      <td>SEVEN OCLOCK</td>\n",
       "      <td>SEVEN OCLOCK</td>\n",
       "      <td>PASSENGER CAR</td>\n",
       "      <td>MOVING CONSTANT SPEED</td>\n",
       "      <td>East</td>\n",
       "      <td>East</td>\n",
       "      <td>35</td>\n",
       "      <td>No</td>\n",
       "      <td>No</td>\n",
       "      <td>2003</td>\n",
       "      <td>FORD</td>\n",
       "      <td>TK</td>\n",
       "      <td>NO MISUSE</td>\n",
       "      <td>39.054588</td>\n",
       "      <td>-77.085974</td>\n",
       "      <td>(39.05458848, -77.08597423)</td>\n",
       "    </tr>\n",
       "    <tr>\n",
       "      <th>3</th>\n",
       "      <td>MCP32610017</td>\n",
       "      <td>230034668</td>\n",
       "      <td>Montgomery County Police</td>\n",
       "      <td>Property Damage Crash</td>\n",
       "      <td>07/20/2023 11:40:00 PM</td>\n",
       "      <td>Maryland (State)</td>\n",
       "      <td>MUNCASTER MILL RD</td>\n",
       "      <td>County</td>\n",
       "      <td>SHADY GROVE RD</td>\n",
       "      <td>NaN</td>\n",
       "      <td>NaN</td>\n",
       "      <td>NaN</td>\n",
       "      <td>OTHER</td>\n",
       "      <td>NaN</td>\n",
       "      <td>DRY</td>\n",
       "      <td>DARK LIGHTS ON</td>\n",
       "      <td>TRAFFIC SIGNAL</td>\n",
       "      <td>NaN</td>\n",
       "      <td>NaN</td>\n",
       "      <td>E611A3F8-5F7D-465B-8DE0-3814027998F1</td>\n",
       "      <td>No</td>\n",
       "      <td>NO APPARENT INJURY</td>\n",
       "      <td>NaN</td>\n",
       "      <td>NOT DISTRACTED</td>\n",
       "      <td>MD</td>\n",
       "      <td>1A592482-AF1F-49CE-8554-77EF7C55966B</td>\n",
       "      <td>SUPERFICIAL</td>\n",
       "      <td>ELEVEN OCLOCK</td>\n",
       "      <td>ELEVEN OCLOCK</td>\n",
       "      <td>PASSENGER CAR</td>\n",
       "      <td>MAKING RIGHT TURN</td>\n",
       "      <td>South</td>\n",
       "      <td>East</td>\n",
       "      <td>45</td>\n",
       "      <td>No</td>\n",
       "      <td>No</td>\n",
       "      <td>2023</td>\n",
       "      <td>TOYT</td>\n",
       "      <td>CP</td>\n",
       "      <td>NO MISUSE</td>\n",
       "      <td>39.148721</td>\n",
       "      <td>-77.147111</td>\n",
       "      <td>(39.14872076, -77.14711061)</td>\n",
       "    </tr>\n",
       "    <tr>\n",
       "      <th>4</th>\n",
       "      <td>EJ78520081</td>\n",
       "      <td>230033429</td>\n",
       "      <td>Gaithersburg Police Depar</td>\n",
       "      <td>Property Damage Crash</td>\n",
       "      <td>07/13/2023 05:40:00 PM</td>\n",
       "      <td>Municipality</td>\n",
       "      <td>PERRY PKWY</td>\n",
       "      <td>Unknown</td>\n",
       "      <td>ENT TO SHOPPING CENTER</td>\n",
       "      <td>NaN</td>\n",
       "      <td>NaN</td>\n",
       "      <td>NaN</td>\n",
       "      <td>SAME DIR REAR END</td>\n",
       "      <td>NaN</td>\n",
       "      <td>DRY</td>\n",
       "      <td>DAYLIGHT</td>\n",
       "      <td>NO CONTROLS</td>\n",
       "      <td>NaN</td>\n",
       "      <td>NaN</td>\n",
       "      <td>3C7F6951-1701-44DC-9824-88DF4E32352E</td>\n",
       "      <td>Yes</td>\n",
       "      <td>NO APPARENT INJURY</td>\n",
       "      <td>NaN</td>\n",
       "      <td>LOOKED BUT DID NOT SEE</td>\n",
       "      <td>MD</td>\n",
       "      <td>C2EF337E-5881-48ED-9B06-36D0BE00557C</td>\n",
       "      <td>SUPERFICIAL</td>\n",
       "      <td>TWELVE OCLOCK</td>\n",
       "      <td>TWELVE OCLOCK</td>\n",
       "      <td>MEDIUM/HEAVY TRUCKS 3 AXLES (OVER 10,000LBS (4...</td>\n",
       "      <td>MOVING CONSTANT SPEED</td>\n",
       "      <td>Unknown</td>\n",
       "      <td>Unknown</td>\n",
       "      <td>25</td>\n",
       "      <td>No</td>\n",
       "      <td>No</td>\n",
       "      <td>2001</td>\n",
       "      <td>KENWORTH</td>\n",
       "      <td>TRUCK</td>\n",
       "      <td>NaN</td>\n",
       "      <td>39.149085</td>\n",
       "      <td>-77.210731</td>\n",
       "      <td>(39.14908542, -77.21073135)</td>\n",
       "    </tr>\n",
       "  </tbody>\n",
       "</table>\n",
       "</div>"
      ],
      "text/plain": [
       "  Report Number Local Case Number                Agency Name  \\\n",
       "0   MCP3040003N         190026050   Montgomery County Police   \n",
       "1   MCP1307000K         190024786   Montgomery County Police   \n",
       "2   MCP2846008X         230034260   Montgomery County Police   \n",
       "3   MCP32610017         230034668   Montgomery County Police   \n",
       "4    EJ78520081         230033429  Gaithersburg Police Depar   \n",
       "\n",
       "        ACRS Report Type         Crash Date/Time        Route Type  \\\n",
       "0  Property Damage Crash  05/31/2019 03:00:00 PM               NaN   \n",
       "1  Property Damage Crash  05/24/2019 05:00:00 PM               NaN   \n",
       "2  Property Damage Crash  07/17/2023 10:45:00 AM            County   \n",
       "3  Property Damage Crash  07/20/2023 11:40:00 PM  Maryland (State)   \n",
       "4  Property Damage Crash  07/13/2023 05:40:00 PM      Municipality   \n",
       "\n",
       "           Road Name Cross-Street Type       Cross-Street Name  \\\n",
       "0                NaN               NaN                     NaN   \n",
       "1                NaN               NaN                     NaN   \n",
       "2       SELFRIDGE RD            County             RANDOLPH RD   \n",
       "3  MUNCASTER MILL RD            County          SHADY GROVE RD   \n",
       "4         PERRY PKWY           Unknown  ENT TO SHOPPING CENTER   \n",
       "\n",
       "             Off-Road Description Municipality Related Non-Motorist  \\\n",
       "0  PARKING LOT OF 3215 SPARTAN RD          NaN                  NaN   \n",
       "1                     PARKING LOT          NaN                  NaN   \n",
       "2                             NaN          NaN                  NaN   \n",
       "3                             NaN          NaN                  NaN   \n",
       "4                             NaN          NaN                  NaN   \n",
       "\n",
       "      Collision Type Weather Surface Condition           Light  \\\n",
       "0              OTHER   CLEAR               NaN        DAYLIGHT   \n",
       "1                NaN   CLEAR               NaN        DAYLIGHT   \n",
       "2              OTHER   CLEAR               DRY  DARK LIGHTS ON   \n",
       "3              OTHER     NaN               DRY  DARK LIGHTS ON   \n",
       "4  SAME DIR REAR END     NaN               DRY        DAYLIGHT   \n",
       "\n",
       "  Traffic Control Driver Substance Abuse Non-Motorist Substance Abuse  \\\n",
       "0             NaN                UNKNOWN                          NaN   \n",
       "1             NaN                    NaN                          NaN   \n",
       "2  TRAFFIC SIGNAL                UNKNOWN                          NaN   \n",
       "3  TRAFFIC SIGNAL                    NaN                          NaN   \n",
       "4     NO CONTROLS                    NaN                          NaN   \n",
       "\n",
       "                              Person ID Driver At Fault     Injury Severity  \\\n",
       "0  DE2A24CD-7919-4F8D-BABF-5B75CE12D21E             Yes  NO APPARENT INJURY   \n",
       "1  6208FA7B-5DC4-4B54-AD60-0C06DFE2AE81             Yes  NO APPARENT INJURY   \n",
       "2  9ACC5A7E-47A1-438F-BF0E-40B0A8632055             Yes  NO APPARENT INJURY   \n",
       "3  E611A3F8-5F7D-465B-8DE0-3814027998F1              No  NO APPARENT INJURY   \n",
       "4  3C7F6951-1701-44DC-9824-88DF4E32352E             Yes  NO APPARENT INJURY   \n",
       "\n",
       "  Circumstance            Driver Distracted By Drivers License State  \\\n",
       "0          NaN                         UNKNOWN                   NaN   \n",
       "1          NaN                  NOT DISTRACTED                    XX   \n",
       "2          NaN  INATTENTIVE OR LOST IN THOUGHT                    MD   \n",
       "3          NaN                  NOT DISTRACTED                    MD   \n",
       "4          NaN          LOOKED BUT DID NOT SEE                    MD   \n",
       "\n",
       "                             Vehicle ID Vehicle Damage Extent  \\\n",
       "0  165AD539-A8C8-4004-AF73-B7DCAAA8B3CC           SUPERFICIAL   \n",
       "1  10239493-D667-42F9-A3D2-820FE184CB6C            FUNCTIONAL   \n",
       "2  8B61B8E0-5473-4C78-A654-6029684ABD03           SUPERFICIAL   \n",
       "3  1A592482-AF1F-49CE-8554-77EF7C55966B           SUPERFICIAL   \n",
       "4  C2EF337E-5881-48ED-9B06-36D0BE00557C           SUPERFICIAL   \n",
       "\n",
       "  Vehicle First Impact Location Vehicle Second Impact Location  \\\n",
       "0                    ONE OCLOCK                     ONE OCLOCK   \n",
       "1                    ONE OCLOCK                     ONE OCLOCK   \n",
       "2                  SEVEN OCLOCK                   SEVEN OCLOCK   \n",
       "3                 ELEVEN OCLOCK                  ELEVEN OCLOCK   \n",
       "4                 TWELVE OCLOCK                  TWELVE OCLOCK   \n",
       "\n",
       "                                   Vehicle Body Type       Vehicle Movement  \\\n",
       "0                                      PASSENGER CAR                PARKING   \n",
       "1                                      PASSENGER CAR                PARKING   \n",
       "2                                      PASSENGER CAR  MOVING CONSTANT SPEED   \n",
       "3                                      PASSENGER CAR      MAKING RIGHT TURN   \n",
       "4  MEDIUM/HEAVY TRUCKS 3 AXLES (OVER 10,000LBS (4...  MOVING CONSTANT SPEED   \n",
       "\n",
       "  Vehicle Continuing Dir Vehicle Going Dir  Speed Limit Driverless Vehicle  \\\n",
       "0                  North             North           15                 No   \n",
       "1                Unknown           Unknown            0                 No   \n",
       "2                   East              East           35                 No   \n",
       "3                  South              East           45                 No   \n",
       "4                Unknown           Unknown           25                 No   \n",
       "\n",
       "  Parked Vehicle  Vehicle Year Vehicle Make Vehicle Model Equipment Problems  \\\n",
       "0             No          2004        HONDA            TK            UNKNOWN   \n",
       "1             No             0          UNK           UNK                NaN   \n",
       "2             No          2003         FORD            TK          NO MISUSE   \n",
       "3             No          2023         TOYT            CP          NO MISUSE   \n",
       "4             No          2001     KENWORTH         TRUCK                NaN   \n",
       "\n",
       "    Latitude  Longitude                     Location  \n",
       "0  39.150044 -77.063089  (39.15004368, -77.06308884)  \n",
       "1  39.199047 -77.250743  (39.19904667, -77.25074333)  \n",
       "2  39.054588 -77.085974  (39.05458848, -77.08597423)  \n",
       "3  39.148721 -77.147111  (39.14872076, -77.14711061)  \n",
       "4  39.149085 -77.210731  (39.14908542, -77.21073135)  "
      ]
     },
     "execution_count": 9,
     "metadata": {},
     "output_type": "execute_result"
    }
   ],
   "source": [
    "df1.head()"
   ]
  },
  {
   "cell_type": "code",
   "execution_count": 10,
   "id": "0d6d7aa2-b2a9-43ac-a861-54fe452cf339",
   "metadata": {},
   "outputs": [
    {
     "data": {
      "text/html": [
       "<div>\n",
       "<style scoped>\n",
       "    .dataframe tbody tr th:only-of-type {\n",
       "        vertical-align: middle;\n",
       "    }\n",
       "\n",
       "    .dataframe tbody tr th {\n",
       "        vertical-align: top;\n",
       "    }\n",
       "\n",
       "    .dataframe thead th {\n",
       "        text-align: right;\n",
       "    }\n",
       "</style>\n",
       "<table border=\"1\" class=\"dataframe\">\n",
       "  <thead>\n",
       "    <tr style=\"text-align: right;\">\n",
       "      <th></th>\n",
       "      <th>Report Number</th>\n",
       "      <th>Local Case Number</th>\n",
       "      <th>Agency Name</th>\n",
       "      <th>ACRS Report Type</th>\n",
       "      <th>Crash Date/Time</th>\n",
       "      <th>Route Type</th>\n",
       "      <th>Road Name</th>\n",
       "      <th>Cross-Street Type</th>\n",
       "      <th>Cross-Street Name</th>\n",
       "      <th>Off-Road Description</th>\n",
       "      <th>Municipality</th>\n",
       "      <th>Related Non-Motorist</th>\n",
       "      <th>Collision Type</th>\n",
       "      <th>Weather</th>\n",
       "      <th>Surface Condition</th>\n",
       "      <th>Light</th>\n",
       "      <th>Traffic Control</th>\n",
       "      <th>Driver Substance Abuse</th>\n",
       "      <th>Non-Motorist Substance Abuse</th>\n",
       "      <th>Person ID</th>\n",
       "      <th>Driver At Fault</th>\n",
       "      <th>Injury Severity</th>\n",
       "      <th>Circumstance</th>\n",
       "      <th>Driver Distracted By</th>\n",
       "      <th>Drivers License State</th>\n",
       "      <th>Vehicle ID</th>\n",
       "      <th>Vehicle Damage Extent</th>\n",
       "      <th>Vehicle First Impact Location</th>\n",
       "      <th>Vehicle Second Impact Location</th>\n",
       "      <th>Vehicle Body Type</th>\n",
       "      <th>Vehicle Movement</th>\n",
       "      <th>Vehicle Continuing Dir</th>\n",
       "      <th>Vehicle Going Dir</th>\n",
       "      <th>Speed Limit</th>\n",
       "      <th>Driverless Vehicle</th>\n",
       "      <th>Parked Vehicle</th>\n",
       "      <th>Vehicle Year</th>\n",
       "      <th>Vehicle Make</th>\n",
       "      <th>Vehicle Model</th>\n",
       "      <th>Equipment Problems</th>\n",
       "      <th>Latitude</th>\n",
       "      <th>Longitude</th>\n",
       "      <th>Location</th>\n",
       "    </tr>\n",
       "  </thead>\n",
       "  <tbody>\n",
       "    <tr>\n",
       "      <th>81168</th>\n",
       "      <td>MCP3058001J</td>\n",
       "      <td>180017452</td>\n",
       "      <td>Montgomery County Police</td>\n",
       "      <td>Property Damage Crash</td>\n",
       "      <td>04/10/2018 04:20:00 PM</td>\n",
       "      <td>NaN</td>\n",
       "      <td>NaN</td>\n",
       "      <td>NaN</td>\n",
       "      <td>NaN</td>\n",
       "      <td>PARKING LOT OF 1283 SEVEN LOCKS RD</td>\n",
       "      <td>NaN</td>\n",
       "      <td>NaN</td>\n",
       "      <td>OPPOSITE DIRECTION SIDESWIPE</td>\n",
       "      <td>CLEAR</td>\n",
       "      <td>NaN</td>\n",
       "      <td>DAYLIGHT</td>\n",
       "      <td>NO CONTROLS</td>\n",
       "      <td>NaN</td>\n",
       "      <td>NaN</td>\n",
       "      <td>06023A8C-0D8E-4EB7-8F67-D888561616E0</td>\n",
       "      <td>Yes</td>\n",
       "      <td>NO APPARENT INJURY</td>\n",
       "      <td>NaN</td>\n",
       "      <td>INATTENTIVE OR LOST IN THOUGHT</td>\n",
       "      <td>NaN</td>\n",
       "      <td>78F88760-61BA-400D-BD04-27212A0CBFCA</td>\n",
       "      <td>UNKNOWN</td>\n",
       "      <td>UNKNOWN</td>\n",
       "      <td>UNKNOWN</td>\n",
       "      <td>NaN</td>\n",
       "      <td>UNKNOWN</td>\n",
       "      <td>Unknown</td>\n",
       "      <td>Unknown</td>\n",
       "      <td>5</td>\n",
       "      <td>No</td>\n",
       "      <td>No</td>\n",
       "      <td>0</td>\n",
       "      <td>UNKNOWN</td>\n",
       "      <td>UNKNOWN</td>\n",
       "      <td>NaN</td>\n",
       "      <td>39.065660</td>\n",
       "      <td>-77.159412</td>\n",
       "      <td>(39.06566, -77.15941167)</td>\n",
       "    </tr>\n",
       "    <tr>\n",
       "      <th>71616</th>\n",
       "      <td>MCP3153000R</td>\n",
       "      <td>180062010</td>\n",
       "      <td>Montgomery County Police</td>\n",
       "      <td>Property Damage Crash</td>\n",
       "      <td>12/12/2018 09:50:00 AM</td>\n",
       "      <td>Maryland (State)</td>\n",
       "      <td>UNIVERSITY BLVD W</td>\n",
       "      <td>County</td>\n",
       "      <td>GABEL ST</td>\n",
       "      <td>NaN</td>\n",
       "      <td>NaN</td>\n",
       "      <td>NaN</td>\n",
       "      <td>STRAIGHT MOVEMENT ANGLE</td>\n",
       "      <td>CLEAR</td>\n",
       "      <td>DRY</td>\n",
       "      <td>DAYLIGHT</td>\n",
       "      <td>TRAFFIC SIGNAL</td>\n",
       "      <td>NONE DETECTED</td>\n",
       "      <td>NaN</td>\n",
       "      <td>87022DB6-2E47-4FC7-8FB2-2EA64E085A7E</td>\n",
       "      <td>No</td>\n",
       "      <td>NO APPARENT INJURY</td>\n",
       "      <td>N/A, VISION OBSTRUCTION (INCL. BLINDED BY SUN)</td>\n",
       "      <td>NOT DISTRACTED</td>\n",
       "      <td>MD</td>\n",
       "      <td>4074D107-7BB9-455E-A763-FE8E03D71A6C</td>\n",
       "      <td>SUPERFICIAL</td>\n",
       "      <td>EIGHT OCLOCK</td>\n",
       "      <td>EIGHT OCLOCK</td>\n",
       "      <td>TRANSIT BUS</td>\n",
       "      <td>STARTING FROM LANE</td>\n",
       "      <td>North</td>\n",
       "      <td>East</td>\n",
       "      <td>35</td>\n",
       "      <td>No</td>\n",
       "      <td>No</td>\n",
       "      <td>2009</td>\n",
       "      <td>GILL</td>\n",
       "      <td>BU</td>\n",
       "      <td>NO MISUSE</td>\n",
       "      <td>39.033308</td>\n",
       "      <td>-77.024023</td>\n",
       "      <td>(39.03330833, -77.02402333)</td>\n",
       "    </tr>\n",
       "    <tr>\n",
       "      <th>35080</th>\n",
       "      <td>DM8423001Y</td>\n",
       "      <td>190025944</td>\n",
       "      <td>Takoma Park Police Depart</td>\n",
       "      <td>Property Damage Crash</td>\n",
       "      <td>04/20/2019 03:00:00 AM</td>\n",
       "      <td>Maryland (State)</td>\n",
       "      <td>FLOWER AVE</td>\n",
       "      <td>Municipality</td>\n",
       "      <td>DOMER AVE</td>\n",
       "      <td>NaN</td>\n",
       "      <td>TAKOMA PARK</td>\n",
       "      <td>NaN</td>\n",
       "      <td>UNKNOWN</td>\n",
       "      <td>CLEAR</td>\n",
       "      <td>DRY</td>\n",
       "      <td>DARK LIGHTS ON</td>\n",
       "      <td>NO CONTROLS</td>\n",
       "      <td>NaN</td>\n",
       "      <td>NaN</td>\n",
       "      <td>CBC9FB7E-B855-4334-8DEF-99A648572AFE</td>\n",
       "      <td>Yes</td>\n",
       "      <td>NO APPARENT INJURY</td>\n",
       "      <td>NaN</td>\n",
       "      <td>UNKNOWN</td>\n",
       "      <td>MD</td>\n",
       "      <td>15422CF7-6214-4868-8E6C-49E1B3CAC8B5</td>\n",
       "      <td>UNKNOWN</td>\n",
       "      <td>TWELVE OCLOCK</td>\n",
       "      <td>TWELVE OCLOCK</td>\n",
       "      <td>PASSENGER CAR</td>\n",
       "      <td>UNKNOWN</td>\n",
       "      <td>East</td>\n",
       "      <td>East</td>\n",
       "      <td>25</td>\n",
       "      <td>No</td>\n",
       "      <td>No</td>\n",
       "      <td>2011</td>\n",
       "      <td>HONDA</td>\n",
       "      <td>CIVIC</td>\n",
       "      <td>NaN</td>\n",
       "      <td>38.996378</td>\n",
       "      <td>-77.003152</td>\n",
       "      <td>(38.99637833, -77.00315167)</td>\n",
       "    </tr>\n",
       "    <tr>\n",
       "      <th>158421</th>\n",
       "      <td>MCP12210022</td>\n",
       "      <td>16011845</td>\n",
       "      <td>MONTGOMERY</td>\n",
       "      <td>Property Damage Crash</td>\n",
       "      <td>03/10/2016 08:16:00 AM</td>\n",
       "      <td>County</td>\n",
       "      <td>MUDDY BRANCH RD</td>\n",
       "      <td>Maryland (State)</td>\n",
       "      <td>GREAT SENECA HWY</td>\n",
       "      <td>NaN</td>\n",
       "      <td>NaN</td>\n",
       "      <td>NaN</td>\n",
       "      <td>STRAIGHT MOVEMENT ANGLE</td>\n",
       "      <td>CLEAR</td>\n",
       "      <td>DRY</td>\n",
       "      <td>DAYLIGHT</td>\n",
       "      <td>TRAFFIC SIGNAL</td>\n",
       "      <td>NONE DETECTED</td>\n",
       "      <td>NaN</td>\n",
       "      <td>4C9090DB-5CAF-4EC8-9BCF-99533BB3D066</td>\n",
       "      <td>No</td>\n",
       "      <td>NO APPARENT INJURY</td>\n",
       "      <td>NaN</td>\n",
       "      <td>NOT DISTRACTED</td>\n",
       "      <td>MD</td>\n",
       "      <td>6FD7F2D6-8A1E-4DF4-B40C-D573A2688809</td>\n",
       "      <td>DISABLING</td>\n",
       "      <td>ELEVEN OCLOCK</td>\n",
       "      <td>ELEVEN OCLOCK</td>\n",
       "      <td>(SPORT) UTILITY VEHICLE</td>\n",
       "      <td>MOVING CONSTANT SPEED</td>\n",
       "      <td>North</td>\n",
       "      <td>North</td>\n",
       "      <td>45</td>\n",
       "      <td>No</td>\n",
       "      <td>No</td>\n",
       "      <td>2011</td>\n",
       "      <td>FORD</td>\n",
       "      <td>ESCAPE</td>\n",
       "      <td>NO MISUSE</td>\n",
       "      <td>39.110365</td>\n",
       "      <td>-77.217210</td>\n",
       "      <td>(39.110365, -77.21721)</td>\n",
       "    </tr>\n",
       "    <tr>\n",
       "      <th>82049</th>\n",
       "      <td>MCP9113001T</td>\n",
       "      <td>16044835</td>\n",
       "      <td>Montgomery County Police</td>\n",
       "      <td>Injury Crash</td>\n",
       "      <td>09/02/2016 09:52:00 AM</td>\n",
       "      <td>Maryland (State)</td>\n",
       "      <td>VEIRS MILL RD</td>\n",
       "      <td>County</td>\n",
       "      <td>TURKEY BRANCH PKWY</td>\n",
       "      <td>NaN</td>\n",
       "      <td>NaN</td>\n",
       "      <td>NaN</td>\n",
       "      <td>SAME DIR REAR END</td>\n",
       "      <td>CLEAR</td>\n",
       "      <td>DRY</td>\n",
       "      <td>DAYLIGHT</td>\n",
       "      <td>NO CONTROLS</td>\n",
       "      <td>NONE DETECTED</td>\n",
       "      <td>NaN</td>\n",
       "      <td>7C2B1B3A-B690-4BEC-A5D8-77E67BD5BE7B</td>\n",
       "      <td>Yes</td>\n",
       "      <td>SUSPECTED MINOR INJURY</td>\n",
       "      <td>NaN</td>\n",
       "      <td>NOT DISTRACTED</td>\n",
       "      <td>MD</td>\n",
       "      <td>C7756C33-C1B5-4853-A0DC-2850D5192B97</td>\n",
       "      <td>FUNCTIONAL</td>\n",
       "      <td>TWELVE OCLOCK</td>\n",
       "      <td>TWELVE OCLOCK</td>\n",
       "      <td>PICKUP TRUCK</td>\n",
       "      <td>MOVING CONSTANT SPEED</td>\n",
       "      <td>West</td>\n",
       "      <td>West</td>\n",
       "      <td>40</td>\n",
       "      <td>No</td>\n",
       "      <td>No</td>\n",
       "      <td>2008</td>\n",
       "      <td>FORD</td>\n",
       "      <td>F150</td>\n",
       "      <td>NaN</td>\n",
       "      <td>39.060458</td>\n",
       "      <td>-77.089012</td>\n",
       "      <td>(39.06045833, -77.08901167)</td>\n",
       "    </tr>\n",
       "  </tbody>\n",
       "</table>\n",
       "</div>"
      ],
      "text/plain": [
       "       Report Number Local Case Number                Agency Name  \\\n",
       "81168    MCP3058001J         180017452   Montgomery County Police   \n",
       "71616    MCP3153000R         180062010   Montgomery County Police   \n",
       "35080     DM8423001Y         190025944  Takoma Park Police Depart   \n",
       "158421   MCP12210022          16011845                 MONTGOMERY   \n",
       "82049    MCP9113001T          16044835   Montgomery County Police   \n",
       "\n",
       "             ACRS Report Type         Crash Date/Time        Route Type  \\\n",
       "81168   Property Damage Crash  04/10/2018 04:20:00 PM               NaN   \n",
       "71616   Property Damage Crash  12/12/2018 09:50:00 AM  Maryland (State)   \n",
       "35080   Property Damage Crash  04/20/2019 03:00:00 AM  Maryland (State)   \n",
       "158421  Property Damage Crash  03/10/2016 08:16:00 AM            County   \n",
       "82049            Injury Crash  09/02/2016 09:52:00 AM  Maryland (State)   \n",
       "\n",
       "                Road Name Cross-Street Type   Cross-Street Name  \\\n",
       "81168                 NaN               NaN                 NaN   \n",
       "71616   UNIVERSITY BLVD W            County            GABEL ST   \n",
       "35080          FLOWER AVE      Municipality           DOMER AVE   \n",
       "158421    MUDDY BRANCH RD  Maryland (State)    GREAT SENECA HWY   \n",
       "82049       VEIRS MILL RD            County  TURKEY BRANCH PKWY   \n",
       "\n",
       "                      Off-Road Description Municipality Related Non-Motorist  \\\n",
       "81168   PARKING LOT OF 1283 SEVEN LOCKS RD          NaN                  NaN   \n",
       "71616                                  NaN          NaN                  NaN   \n",
       "35080                                  NaN  TAKOMA PARK                  NaN   \n",
       "158421                                 NaN          NaN                  NaN   \n",
       "82049                                  NaN          NaN                  NaN   \n",
       "\n",
       "                      Collision Type Weather Surface Condition  \\\n",
       "81168   OPPOSITE DIRECTION SIDESWIPE   CLEAR               NaN   \n",
       "71616        STRAIGHT MOVEMENT ANGLE   CLEAR               DRY   \n",
       "35080                        UNKNOWN   CLEAR               DRY   \n",
       "158421       STRAIGHT MOVEMENT ANGLE   CLEAR               DRY   \n",
       "82049              SAME DIR REAR END   CLEAR               DRY   \n",
       "\n",
       "                 Light Traffic Control Driver Substance Abuse  \\\n",
       "81168         DAYLIGHT     NO CONTROLS                    NaN   \n",
       "71616         DAYLIGHT  TRAFFIC SIGNAL          NONE DETECTED   \n",
       "35080   DARK LIGHTS ON     NO CONTROLS                    NaN   \n",
       "158421        DAYLIGHT  TRAFFIC SIGNAL          NONE DETECTED   \n",
       "82049         DAYLIGHT     NO CONTROLS          NONE DETECTED   \n",
       "\n",
       "       Non-Motorist Substance Abuse                             Person ID  \\\n",
       "81168                           NaN  06023A8C-0D8E-4EB7-8F67-D888561616E0   \n",
       "71616                           NaN  87022DB6-2E47-4FC7-8FB2-2EA64E085A7E   \n",
       "35080                           NaN  CBC9FB7E-B855-4334-8DEF-99A648572AFE   \n",
       "158421                          NaN  4C9090DB-5CAF-4EC8-9BCF-99533BB3D066   \n",
       "82049                           NaN  7C2B1B3A-B690-4BEC-A5D8-77E67BD5BE7B   \n",
       "\n",
       "       Driver At Fault         Injury Severity  \\\n",
       "81168              Yes      NO APPARENT INJURY   \n",
       "71616               No      NO APPARENT INJURY   \n",
       "35080              Yes      NO APPARENT INJURY   \n",
       "158421              No      NO APPARENT INJURY   \n",
       "82049              Yes  SUSPECTED MINOR INJURY   \n",
       "\n",
       "                                          Circumstance  \\\n",
       "81168                                              NaN   \n",
       "71616   N/A, VISION OBSTRUCTION (INCL. BLINDED BY SUN)   \n",
       "35080                                              NaN   \n",
       "158421                                             NaN   \n",
       "82049                                              NaN   \n",
       "\n",
       "                  Driver Distracted By Drivers License State  \\\n",
       "81168   INATTENTIVE OR LOST IN THOUGHT                   NaN   \n",
       "71616                   NOT DISTRACTED                    MD   \n",
       "35080                          UNKNOWN                    MD   \n",
       "158421                  NOT DISTRACTED                    MD   \n",
       "82049                   NOT DISTRACTED                    MD   \n",
       "\n",
       "                                  Vehicle ID Vehicle Damage Extent  \\\n",
       "81168   78F88760-61BA-400D-BD04-27212A0CBFCA               UNKNOWN   \n",
       "71616   4074D107-7BB9-455E-A763-FE8E03D71A6C           SUPERFICIAL   \n",
       "35080   15422CF7-6214-4868-8E6C-49E1B3CAC8B5               UNKNOWN   \n",
       "158421  6FD7F2D6-8A1E-4DF4-B40C-D573A2688809             DISABLING   \n",
       "82049   C7756C33-C1B5-4853-A0DC-2850D5192B97            FUNCTIONAL   \n",
       "\n",
       "       Vehicle First Impact Location Vehicle Second Impact Location  \\\n",
       "81168                        UNKNOWN                        UNKNOWN   \n",
       "71616                   EIGHT OCLOCK                   EIGHT OCLOCK   \n",
       "35080                  TWELVE OCLOCK                  TWELVE OCLOCK   \n",
       "158421                 ELEVEN OCLOCK                  ELEVEN OCLOCK   \n",
       "82049                  TWELVE OCLOCK                  TWELVE OCLOCK   \n",
       "\n",
       "              Vehicle Body Type       Vehicle Movement Vehicle Continuing Dir  \\\n",
       "81168                       NaN                UNKNOWN                Unknown   \n",
       "71616               TRANSIT BUS     STARTING FROM LANE                  North   \n",
       "35080             PASSENGER CAR                UNKNOWN                   East   \n",
       "158421  (SPORT) UTILITY VEHICLE  MOVING CONSTANT SPEED                  North   \n",
       "82049              PICKUP TRUCK  MOVING CONSTANT SPEED                   West   \n",
       "\n",
       "       Vehicle Going Dir  Speed Limit Driverless Vehicle Parked Vehicle  \\\n",
       "81168            Unknown            5                 No             No   \n",
       "71616               East           35                 No             No   \n",
       "35080               East           25                 No             No   \n",
       "158421             North           45                 No             No   \n",
       "82049               West           40                 No             No   \n",
       "\n",
       "        Vehicle Year Vehicle Make Vehicle Model Equipment Problems   Latitude  \\\n",
       "81168              0      UNKNOWN       UNKNOWN                NaN  39.065660   \n",
       "71616           2009         GILL            BU          NO MISUSE  39.033308   \n",
       "35080           2011        HONDA         CIVIC                NaN  38.996378   \n",
       "158421          2011         FORD        ESCAPE          NO MISUSE  39.110365   \n",
       "82049           2008         FORD          F150                NaN  39.060458   \n",
       "\n",
       "        Longitude                     Location  \n",
       "81168  -77.159412     (39.06566, -77.15941167)  \n",
       "71616  -77.024023  (39.03330833, -77.02402333)  \n",
       "35080  -77.003152  (38.99637833, -77.00315167)  \n",
       "158421 -77.217210       (39.110365, -77.21721)  \n",
       "82049  -77.089012  (39.06045833, -77.08901167)  "
      ]
     },
     "execution_count": 10,
     "metadata": {},
     "output_type": "execute_result"
    }
   ],
   "source": [
    "df1.sample(5)"
   ]
  },
  {
   "cell_type": "code",
   "execution_count": 11,
   "id": "f1d157c6-e56a-4045-a9d8-400f2f8edaf5",
   "metadata": {},
   "outputs": [
    {
     "data": {
      "text/plain": [
       "Index(['Report Number', 'Local Case Number', 'Agency Name', 'ACRS Report Type',\n",
       "       'Crash Date/Time', 'Route Type', 'Road Name', 'Cross-Street Type',\n",
       "       'Cross-Street Name', 'Off-Road Description', 'Municipality',\n",
       "       'Related Non-Motorist', 'Collision Type', 'Weather',\n",
       "       'Surface Condition', 'Light', 'Traffic Control',\n",
       "       'Driver Substance Abuse', 'Non-Motorist Substance Abuse', 'Person ID',\n",
       "       'Driver At Fault', 'Injury Severity', 'Circumstance',\n",
       "       'Driver Distracted By', 'Drivers License State', 'Vehicle ID',\n",
       "       'Vehicle Damage Extent', 'Vehicle First Impact Location',\n",
       "       'Vehicle Second Impact Location', 'Vehicle Body Type',\n",
       "       'Vehicle Movement', 'Vehicle Continuing Dir', 'Vehicle Going Dir',\n",
       "       'Speed Limit', 'Driverless Vehicle', 'Parked Vehicle', 'Vehicle Year',\n",
       "       'Vehicle Make', 'Vehicle Model', 'Equipment Problems', 'Latitude',\n",
       "       'Longitude', 'Location'],\n",
       "      dtype='object')"
      ]
     },
     "execution_count": 11,
     "metadata": {},
     "output_type": "execute_result"
    }
   ],
   "source": [
    "df1.columns"
   ]
  },
  {
   "cell_type": "code",
   "execution_count": 12,
   "id": "3dcc4ad9-80fa-485e-b630-92d6a7ea11e5",
   "metadata": {},
   "outputs": [
    {
     "data": {
      "text/plain": [
       "Report Number                      object\n",
       "Local Case Number                  object\n",
       "Agency Name                        object\n",
       "ACRS Report Type                   object\n",
       "Crash Date/Time                    object\n",
       "Route Type                         object\n",
       "Road Name                          object\n",
       "Cross-Street Type                  object\n",
       "Cross-Street Name                  object\n",
       "Off-Road Description               object\n",
       "Municipality                       object\n",
       "Related Non-Motorist               object\n",
       "Collision Type                     object\n",
       "Weather                            object\n",
       "Surface Condition                  object\n",
       "Light                              object\n",
       "Traffic Control                    object\n",
       "Driver Substance Abuse             object\n",
       "Non-Motorist Substance Abuse       object\n",
       "Person ID                          object\n",
       "Driver At Fault                    object\n",
       "Injury Severity                    object\n",
       "Circumstance                       object\n",
       "Driver Distracted By               object\n",
       "Drivers License State              object\n",
       "Vehicle ID                         object\n",
       "Vehicle Damage Extent              object\n",
       "Vehicle First Impact Location      object\n",
       "Vehicle Second Impact Location     object\n",
       "Vehicle Body Type                  object\n",
       "Vehicle Movement                   object\n",
       "Vehicle Continuing Dir             object\n",
       "Vehicle Going Dir                  object\n",
       "Speed Limit                         int64\n",
       "Driverless Vehicle                 object\n",
       "Parked Vehicle                     object\n",
       "Vehicle Year                        int64\n",
       "Vehicle Make                       object\n",
       "Vehicle Model                      object\n",
       "Equipment Problems                 object\n",
       "Latitude                          float64\n",
       "Longitude                         float64\n",
       "Location                           object\n",
       "dtype: object"
      ]
     },
     "execution_count": 12,
     "metadata": {},
     "output_type": "execute_result"
    }
   ],
   "source": [
    "df1.dtypes"
   ]
  },
  {
   "cell_type": "code",
   "execution_count": 13,
   "id": "2932a833-cce4-4e7d-8ef2-3d430e60f629",
   "metadata": {},
   "outputs": [
    {
     "data": {
      "text/html": [
       "<div>\n",
       "<style scoped>\n",
       "    .dataframe tbody tr th:only-of-type {\n",
       "        vertical-align: middle;\n",
       "    }\n",
       "\n",
       "    .dataframe tbody tr th {\n",
       "        vertical-align: top;\n",
       "    }\n",
       "\n",
       "    .dataframe thead th {\n",
       "        text-align: right;\n",
       "    }\n",
       "</style>\n",
       "<table border=\"1\" class=\"dataframe\">\n",
       "  <thead>\n",
       "    <tr style=\"text-align: right;\">\n",
       "      <th></th>\n",
       "      <th>Report Number</th>\n",
       "      <th>Local Case Number</th>\n",
       "      <th>Agency Name</th>\n",
       "      <th>ACRS Report Type</th>\n",
       "      <th>Crash Date/Time</th>\n",
       "      <th>Route Type</th>\n",
       "      <th>Road Name</th>\n",
       "      <th>Cross-Street Type</th>\n",
       "      <th>Cross-Street Name</th>\n",
       "      <th>Off-Road Description</th>\n",
       "      <th>Municipality</th>\n",
       "      <th>Related Non-Motorist</th>\n",
       "      <th>Collision Type</th>\n",
       "      <th>Weather</th>\n",
       "      <th>Surface Condition</th>\n",
       "      <th>Light</th>\n",
       "      <th>Traffic Control</th>\n",
       "      <th>Driver Substance Abuse</th>\n",
       "      <th>Non-Motorist Substance Abuse</th>\n",
       "      <th>Person ID</th>\n",
       "      <th>Driver At Fault</th>\n",
       "      <th>Injury Severity</th>\n",
       "      <th>Circumstance</th>\n",
       "      <th>Driver Distracted By</th>\n",
       "      <th>Drivers License State</th>\n",
       "      <th>Vehicle ID</th>\n",
       "      <th>Vehicle Damage Extent</th>\n",
       "      <th>Vehicle First Impact Location</th>\n",
       "      <th>Vehicle Second Impact Location</th>\n",
       "      <th>Vehicle Body Type</th>\n",
       "      <th>Vehicle Movement</th>\n",
       "      <th>Vehicle Continuing Dir</th>\n",
       "      <th>Vehicle Going Dir</th>\n",
       "      <th>Speed Limit</th>\n",
       "      <th>Driverless Vehicle</th>\n",
       "      <th>Parked Vehicle</th>\n",
       "      <th>Vehicle Year</th>\n",
       "      <th>Vehicle Make</th>\n",
       "      <th>Vehicle Model</th>\n",
       "      <th>Equipment Problems</th>\n",
       "      <th>Latitude</th>\n",
       "      <th>Longitude</th>\n",
       "      <th>Location</th>\n",
       "    </tr>\n",
       "  </thead>\n",
       "  <tbody>\n",
       "    <tr>\n",
       "      <th>count</th>\n",
       "      <td>170604</td>\n",
       "      <td>170604</td>\n",
       "      <td>170604</td>\n",
       "      <td>170604</td>\n",
       "      <td>170604</td>\n",
       "      <td>153765</td>\n",
       "      <td>154790</td>\n",
       "      <td>153732</td>\n",
       "      <td>154776</td>\n",
       "      <td>15812</td>\n",
       "      <td>18947</td>\n",
       "      <td>5422</td>\n",
       "      <td>170030</td>\n",
       "      <td>157350</td>\n",
       "      <td>150646</td>\n",
       "      <td>169188</td>\n",
       "      <td>145316</td>\n",
       "      <td>139546</td>\n",
       "      <td>4287</td>\n",
       "      <td>170604</td>\n",
       "      <td>170604</td>\n",
       "      <td>170604</td>\n",
       "      <td>30999</td>\n",
       "      <td>170604</td>\n",
       "      <td>160767</td>\n",
       "      <td>170604</td>\n",
       "      <td>170291</td>\n",
       "      <td>170448</td>\n",
       "      <td>170348</td>\n",
       "      <td>167980</td>\n",
       "      <td>170225</td>\n",
       "      <td>167942</td>\n",
       "      <td>167942</td>\n",
       "      <td>170604.000000</td>\n",
       "      <td>170604</td>\n",
       "      <td>170604</td>\n",
       "      <td>170604.000000</td>\n",
       "      <td>170580</td>\n",
       "      <td>170538</td>\n",
       "      <td>136672</td>\n",
       "      <td>170604.000000</td>\n",
       "      <td>170604.000000</td>\n",
       "      <td>170604</td>\n",
       "    </tr>\n",
       "    <tr>\n",
       "      <th>unique</th>\n",
       "      <td>95987</td>\n",
       "      <td>107898</td>\n",
       "      <td>10</td>\n",
       "      <td>3</td>\n",
       "      <td>93662</td>\n",
       "      <td>10</td>\n",
       "      <td>3791</td>\n",
       "      <td>10</td>\n",
       "      <td>6671</td>\n",
       "      <td>11221</td>\n",
       "      <td>20</td>\n",
       "      <td>12</td>\n",
       "      <td>18</td>\n",
       "      <td>12</td>\n",
       "      <td>11</td>\n",
       "      <td>8</td>\n",
       "      <td>11</td>\n",
       "      <td>11</td>\n",
       "      <td>15</td>\n",
       "      <td>170604</td>\n",
       "      <td>3</td>\n",
       "      <td>5</td>\n",
       "      <td>197</td>\n",
       "      <td>19</td>\n",
       "      <td>74</td>\n",
       "      <td>170604</td>\n",
       "      <td>7</td>\n",
       "      <td>16</td>\n",
       "      <td>16</td>\n",
       "      <td>30</td>\n",
       "      <td>22</td>\n",
       "      <td>5</td>\n",
       "      <td>5</td>\n",
       "      <td>NaN</td>\n",
       "      <td>2</td>\n",
       "      <td>2</td>\n",
       "      <td>NaN</td>\n",
       "      <td>1868</td>\n",
       "      <td>6652</td>\n",
       "      <td>10</td>\n",
       "      <td>NaN</td>\n",
       "      <td>NaN</td>\n",
       "      <td>95154</td>\n",
       "    </tr>\n",
       "    <tr>\n",
       "      <th>top</th>\n",
       "      <td>MCP229800RC</td>\n",
       "      <td>200022715</td>\n",
       "      <td>Montgomery County Police</td>\n",
       "      <td>Property Damage Crash</td>\n",
       "      <td>12/10/2018 06:10:00 PM</td>\n",
       "      <td>Maryland (State)</td>\n",
       "      <td>GEORGIA AVE</td>\n",
       "      <td>County</td>\n",
       "      <td>GEORGIA AVE</td>\n",
       "      <td>PARKING LOT</td>\n",
       "      <td>ROCKVILLE</td>\n",
       "      <td>PEDESTRIAN</td>\n",
       "      <td>SAME DIR REAR END</td>\n",
       "      <td>CLEAR</td>\n",
       "      <td>DRY</td>\n",
       "      <td>DAYLIGHT</td>\n",
       "      <td>NO CONTROLS</td>\n",
       "      <td>NONE DETECTED</td>\n",
       "      <td>NONE DETECTED</td>\n",
       "      <td>DE2A24CD-7919-4F8D-BABF-5B75CE12D21E</td>\n",
       "      <td>Yes</td>\n",
       "      <td>NO APPARENT INJURY</td>\n",
       "      <td>RAIN, SNOW, WET</td>\n",
       "      <td>NOT DISTRACTED</td>\n",
       "      <td>MD</td>\n",
       "      <td>165AD539-A8C8-4004-AF73-B7DCAAA8B3CC</td>\n",
       "      <td>DISABLING</td>\n",
       "      <td>TWELVE OCLOCK</td>\n",
       "      <td>TWELVE OCLOCK</td>\n",
       "      <td>PASSENGER CAR</td>\n",
       "      <td>MOVING CONSTANT SPEED</td>\n",
       "      <td>North</td>\n",
       "      <td>North</td>\n",
       "      <td>NaN</td>\n",
       "      <td>No</td>\n",
       "      <td>No</td>\n",
       "      <td>NaN</td>\n",
       "      <td>TOYOTA</td>\n",
       "      <td>4S</td>\n",
       "      <td>NO MISUSE</td>\n",
       "      <td>NaN</td>\n",
       "      <td>NaN</td>\n",
       "      <td>(38.953, -77.338)</td>\n",
       "    </tr>\n",
       "    <tr>\n",
       "      <th>freq</th>\n",
       "      <td>10</td>\n",
       "      <td>10</td>\n",
       "      <td>137085</td>\n",
       "      <td>108438</td>\n",
       "      <td>11</td>\n",
       "      <td>76394</td>\n",
       "      <td>10786</td>\n",
       "      <td>84739</td>\n",
       "      <td>2096</td>\n",
       "      <td>132</td>\n",
       "      <td>9236</td>\n",
       "      <td>3847</td>\n",
       "      <td>55319</td>\n",
       "      <td>115799</td>\n",
       "      <td>119586</td>\n",
       "      <td>115426</td>\n",
       "      <td>68001</td>\n",
       "      <td>121467</td>\n",
       "      <td>3834</td>\n",
       "      <td>1</td>\n",
       "      <td>91634</td>\n",
       "      <td>139933</td>\n",
       "      <td>12019</td>\n",
       "      <td>105841</td>\n",
       "      <td>141609</td>\n",
       "      <td>1</td>\n",
       "      <td>61776</td>\n",
       "      <td>67389</td>\n",
       "      <td>67145</td>\n",
       "      <td>118028</td>\n",
       "      <td>66566</td>\n",
       "      <td>46441</td>\n",
       "      <td>47232</td>\n",
       "      <td>NaN</td>\n",
       "      <td>169868</td>\n",
       "      <td>167942</td>\n",
       "      <td>NaN</td>\n",
       "      <td>22963</td>\n",
       "      <td>13682</td>\n",
       "      <td>122312</td>\n",
       "      <td>NaN</td>\n",
       "      <td>NaN</td>\n",
       "      <td>45</td>\n",
       "    </tr>\n",
       "    <tr>\n",
       "      <th>mean</th>\n",
       "      <td>NaN</td>\n",
       "      <td>NaN</td>\n",
       "      <td>NaN</td>\n",
       "      <td>NaN</td>\n",
       "      <td>NaN</td>\n",
       "      <td>NaN</td>\n",
       "      <td>NaN</td>\n",
       "      <td>NaN</td>\n",
       "      <td>NaN</td>\n",
       "      <td>NaN</td>\n",
       "      <td>NaN</td>\n",
       "      <td>NaN</td>\n",
       "      <td>NaN</td>\n",
       "      <td>NaN</td>\n",
       "      <td>NaN</td>\n",
       "      <td>NaN</td>\n",
       "      <td>NaN</td>\n",
       "      <td>NaN</td>\n",
       "      <td>NaN</td>\n",
       "      <td>NaN</td>\n",
       "      <td>NaN</td>\n",
       "      <td>NaN</td>\n",
       "      <td>NaN</td>\n",
       "      <td>NaN</td>\n",
       "      <td>NaN</td>\n",
       "      <td>NaN</td>\n",
       "      <td>NaN</td>\n",
       "      <td>NaN</td>\n",
       "      <td>NaN</td>\n",
       "      <td>NaN</td>\n",
       "      <td>NaN</td>\n",
       "      <td>NaN</td>\n",
       "      <td>NaN</td>\n",
       "      <td>32.550028</td>\n",
       "      <td>NaN</td>\n",
       "      <td>NaN</td>\n",
       "      <td>1966.381785</td>\n",
       "      <td>NaN</td>\n",
       "      <td>NaN</td>\n",
       "      <td>NaN</td>\n",
       "      <td>39.083072</td>\n",
       "      <td>-77.112348</td>\n",
       "      <td>NaN</td>\n",
       "    </tr>\n",
       "    <tr>\n",
       "      <th>std</th>\n",
       "      <td>NaN</td>\n",
       "      <td>NaN</td>\n",
       "      <td>NaN</td>\n",
       "      <td>NaN</td>\n",
       "      <td>NaN</td>\n",
       "      <td>NaN</td>\n",
       "      <td>NaN</td>\n",
       "      <td>NaN</td>\n",
       "      <td>NaN</td>\n",
       "      <td>NaN</td>\n",
       "      <td>NaN</td>\n",
       "      <td>NaN</td>\n",
       "      <td>NaN</td>\n",
       "      <td>NaN</td>\n",
       "      <td>NaN</td>\n",
       "      <td>NaN</td>\n",
       "      <td>NaN</td>\n",
       "      <td>NaN</td>\n",
       "      <td>NaN</td>\n",
       "      <td>NaN</td>\n",
       "      <td>NaN</td>\n",
       "      <td>NaN</td>\n",
       "      <td>NaN</td>\n",
       "      <td>NaN</td>\n",
       "      <td>NaN</td>\n",
       "      <td>NaN</td>\n",
       "      <td>NaN</td>\n",
       "      <td>NaN</td>\n",
       "      <td>NaN</td>\n",
       "      <td>NaN</td>\n",
       "      <td>NaN</td>\n",
       "      <td>NaN</td>\n",
       "      <td>NaN</td>\n",
       "      <td>11.059808</td>\n",
       "      <td>NaN</td>\n",
       "      <td>NaN</td>\n",
       "      <td>340.687251</td>\n",
       "      <td>NaN</td>\n",
       "      <td>NaN</td>\n",
       "      <td>NaN</td>\n",
       "      <td>0.072046</td>\n",
       "      <td>0.098564</td>\n",
       "      <td>NaN</td>\n",
       "    </tr>\n",
       "    <tr>\n",
       "      <th>min</th>\n",
       "      <td>NaN</td>\n",
       "      <td>NaN</td>\n",
       "      <td>NaN</td>\n",
       "      <td>NaN</td>\n",
       "      <td>NaN</td>\n",
       "      <td>NaN</td>\n",
       "      <td>NaN</td>\n",
       "      <td>NaN</td>\n",
       "      <td>NaN</td>\n",
       "      <td>NaN</td>\n",
       "      <td>NaN</td>\n",
       "      <td>NaN</td>\n",
       "      <td>NaN</td>\n",
       "      <td>NaN</td>\n",
       "      <td>NaN</td>\n",
       "      <td>NaN</td>\n",
       "      <td>NaN</td>\n",
       "      <td>NaN</td>\n",
       "      <td>NaN</td>\n",
       "      <td>NaN</td>\n",
       "      <td>NaN</td>\n",
       "      <td>NaN</td>\n",
       "      <td>NaN</td>\n",
       "      <td>NaN</td>\n",
       "      <td>NaN</td>\n",
       "      <td>NaN</td>\n",
       "      <td>NaN</td>\n",
       "      <td>NaN</td>\n",
       "      <td>NaN</td>\n",
       "      <td>NaN</td>\n",
       "      <td>NaN</td>\n",
       "      <td>NaN</td>\n",
       "      <td>NaN</td>\n",
       "      <td>0.000000</td>\n",
       "      <td>NaN</td>\n",
       "      <td>NaN</td>\n",
       "      <td>0.000000</td>\n",
       "      <td>NaN</td>\n",
       "      <td>NaN</td>\n",
       "      <td>NaN</td>\n",
       "      <td>37.720000</td>\n",
       "      <td>-79.486000</td>\n",
       "      <td>NaN</td>\n",
       "    </tr>\n",
       "    <tr>\n",
       "      <th>25%</th>\n",
       "      <td>NaN</td>\n",
       "      <td>NaN</td>\n",
       "      <td>NaN</td>\n",
       "      <td>NaN</td>\n",
       "      <td>NaN</td>\n",
       "      <td>NaN</td>\n",
       "      <td>NaN</td>\n",
       "      <td>NaN</td>\n",
       "      <td>NaN</td>\n",
       "      <td>NaN</td>\n",
       "      <td>NaN</td>\n",
       "      <td>NaN</td>\n",
       "      <td>NaN</td>\n",
       "      <td>NaN</td>\n",
       "      <td>NaN</td>\n",
       "      <td>NaN</td>\n",
       "      <td>NaN</td>\n",
       "      <td>NaN</td>\n",
       "      <td>NaN</td>\n",
       "      <td>NaN</td>\n",
       "      <td>NaN</td>\n",
       "      <td>NaN</td>\n",
       "      <td>NaN</td>\n",
       "      <td>NaN</td>\n",
       "      <td>NaN</td>\n",
       "      <td>NaN</td>\n",
       "      <td>NaN</td>\n",
       "      <td>NaN</td>\n",
       "      <td>NaN</td>\n",
       "      <td>NaN</td>\n",
       "      <td>NaN</td>\n",
       "      <td>NaN</td>\n",
       "      <td>NaN</td>\n",
       "      <td>25.000000</td>\n",
       "      <td>NaN</td>\n",
       "      <td>NaN</td>\n",
       "      <td>2006.000000</td>\n",
       "      <td>NaN</td>\n",
       "      <td>NaN</td>\n",
       "      <td>NaN</td>\n",
       "      <td>39.024294</td>\n",
       "      <td>-77.189252</td>\n",
       "      <td>NaN</td>\n",
       "    </tr>\n",
       "    <tr>\n",
       "      <th>50%</th>\n",
       "      <td>NaN</td>\n",
       "      <td>NaN</td>\n",
       "      <td>NaN</td>\n",
       "      <td>NaN</td>\n",
       "      <td>NaN</td>\n",
       "      <td>NaN</td>\n",
       "      <td>NaN</td>\n",
       "      <td>NaN</td>\n",
       "      <td>NaN</td>\n",
       "      <td>NaN</td>\n",
       "      <td>NaN</td>\n",
       "      <td>NaN</td>\n",
       "      <td>NaN</td>\n",
       "      <td>NaN</td>\n",
       "      <td>NaN</td>\n",
       "      <td>NaN</td>\n",
       "      <td>NaN</td>\n",
       "      <td>NaN</td>\n",
       "      <td>NaN</td>\n",
       "      <td>NaN</td>\n",
       "      <td>NaN</td>\n",
       "      <td>NaN</td>\n",
       "      <td>NaN</td>\n",
       "      <td>NaN</td>\n",
       "      <td>NaN</td>\n",
       "      <td>NaN</td>\n",
       "      <td>NaN</td>\n",
       "      <td>NaN</td>\n",
       "      <td>NaN</td>\n",
       "      <td>NaN</td>\n",
       "      <td>NaN</td>\n",
       "      <td>NaN</td>\n",
       "      <td>NaN</td>\n",
       "      <td>35.000000</td>\n",
       "      <td>NaN</td>\n",
       "      <td>NaN</td>\n",
       "      <td>2011.000000</td>\n",
       "      <td>NaN</td>\n",
       "      <td>NaN</td>\n",
       "      <td>NaN</td>\n",
       "      <td>39.074923</td>\n",
       "      <td>-77.105429</td>\n",
       "      <td>NaN</td>\n",
       "    </tr>\n",
       "    <tr>\n",
       "      <th>75%</th>\n",
       "      <td>NaN</td>\n",
       "      <td>NaN</td>\n",
       "      <td>NaN</td>\n",
       "      <td>NaN</td>\n",
       "      <td>NaN</td>\n",
       "      <td>NaN</td>\n",
       "      <td>NaN</td>\n",
       "      <td>NaN</td>\n",
       "      <td>NaN</td>\n",
       "      <td>NaN</td>\n",
       "      <td>NaN</td>\n",
       "      <td>NaN</td>\n",
       "      <td>NaN</td>\n",
       "      <td>NaN</td>\n",
       "      <td>NaN</td>\n",
       "      <td>NaN</td>\n",
       "      <td>NaN</td>\n",
       "      <td>NaN</td>\n",
       "      <td>NaN</td>\n",
       "      <td>NaN</td>\n",
       "      <td>NaN</td>\n",
       "      <td>NaN</td>\n",
       "      <td>NaN</td>\n",
       "      <td>NaN</td>\n",
       "      <td>NaN</td>\n",
       "      <td>NaN</td>\n",
       "      <td>NaN</td>\n",
       "      <td>NaN</td>\n",
       "      <td>NaN</td>\n",
       "      <td>NaN</td>\n",
       "      <td>NaN</td>\n",
       "      <td>NaN</td>\n",
       "      <td>NaN</td>\n",
       "      <td>40.000000</td>\n",
       "      <td>NaN</td>\n",
       "      <td>NaN</td>\n",
       "      <td>2015.000000</td>\n",
       "      <td>NaN</td>\n",
       "      <td>NaN</td>\n",
       "      <td>NaN</td>\n",
       "      <td>39.139708</td>\n",
       "      <td>-77.039628</td>\n",
       "      <td>NaN</td>\n",
       "    </tr>\n",
       "    <tr>\n",
       "      <th>max</th>\n",
       "      <td>NaN</td>\n",
       "      <td>NaN</td>\n",
       "      <td>NaN</td>\n",
       "      <td>NaN</td>\n",
       "      <td>NaN</td>\n",
       "      <td>NaN</td>\n",
       "      <td>NaN</td>\n",
       "      <td>NaN</td>\n",
       "      <td>NaN</td>\n",
       "      <td>NaN</td>\n",
       "      <td>NaN</td>\n",
       "      <td>NaN</td>\n",
       "      <td>NaN</td>\n",
       "      <td>NaN</td>\n",
       "      <td>NaN</td>\n",
       "      <td>NaN</td>\n",
       "      <td>NaN</td>\n",
       "      <td>NaN</td>\n",
       "      <td>NaN</td>\n",
       "      <td>NaN</td>\n",
       "      <td>NaN</td>\n",
       "      <td>NaN</td>\n",
       "      <td>NaN</td>\n",
       "      <td>NaN</td>\n",
       "      <td>NaN</td>\n",
       "      <td>NaN</td>\n",
       "      <td>NaN</td>\n",
       "      <td>NaN</td>\n",
       "      <td>NaN</td>\n",
       "      <td>NaN</td>\n",
       "      <td>NaN</td>\n",
       "      <td>NaN</td>\n",
       "      <td>NaN</td>\n",
       "      <td>75.000000</td>\n",
       "      <td>NaN</td>\n",
       "      <td>NaN</td>\n",
       "      <td>9999.000000</td>\n",
       "      <td>NaN</td>\n",
       "      <td>NaN</td>\n",
       "      <td>NaN</td>\n",
       "      <td>39.990414</td>\n",
       "      <td>-75.527708</td>\n",
       "      <td>NaN</td>\n",
       "    </tr>\n",
       "  </tbody>\n",
       "</table>\n",
       "</div>"
      ],
      "text/plain": [
       "       Report Number Local Case Number               Agency Name  \\\n",
       "count         170604            170604                    170604   \n",
       "unique         95987            107898                        10   \n",
       "top      MCP229800RC         200022715  Montgomery County Police   \n",
       "freq              10                10                    137085   \n",
       "mean             NaN               NaN                       NaN   \n",
       "std              NaN               NaN                       NaN   \n",
       "min              NaN               NaN                       NaN   \n",
       "25%              NaN               NaN                       NaN   \n",
       "50%              NaN               NaN                       NaN   \n",
       "75%              NaN               NaN                       NaN   \n",
       "max              NaN               NaN                       NaN   \n",
       "\n",
       "             ACRS Report Type         Crash Date/Time        Route Type  \\\n",
       "count                  170604                  170604            153765   \n",
       "unique                      3                   93662                10   \n",
       "top     Property Damage Crash  12/10/2018 06:10:00 PM  Maryland (State)   \n",
       "freq                   108438                      11             76394   \n",
       "mean                      NaN                     NaN               NaN   \n",
       "std                       NaN                     NaN               NaN   \n",
       "min                       NaN                     NaN               NaN   \n",
       "25%                       NaN                     NaN               NaN   \n",
       "50%                       NaN                     NaN               NaN   \n",
       "75%                       NaN                     NaN               NaN   \n",
       "max                       NaN                     NaN               NaN   \n",
       "\n",
       "          Road Name Cross-Street Type Cross-Street Name Off-Road Description  \\\n",
       "count        154790            153732            154776                15812   \n",
       "unique         3791                10              6671                11221   \n",
       "top     GEORGIA AVE            County       GEORGIA AVE          PARKING LOT   \n",
       "freq          10786             84739              2096                  132   \n",
       "mean            NaN               NaN               NaN                  NaN   \n",
       "std             NaN               NaN               NaN                  NaN   \n",
       "min             NaN               NaN               NaN                  NaN   \n",
       "25%             NaN               NaN               NaN                  NaN   \n",
       "50%             NaN               NaN               NaN                  NaN   \n",
       "75%             NaN               NaN               NaN                  NaN   \n",
       "max             NaN               NaN               NaN                  NaN   \n",
       "\n",
       "       Municipality Related Non-Motorist     Collision Type Weather  \\\n",
       "count         18947                 5422             170030  157350   \n",
       "unique           20                   12                 18      12   \n",
       "top       ROCKVILLE           PEDESTRIAN  SAME DIR REAR END   CLEAR   \n",
       "freq           9236                 3847              55319  115799   \n",
       "mean            NaN                  NaN                NaN     NaN   \n",
       "std             NaN                  NaN                NaN     NaN   \n",
       "min             NaN                  NaN                NaN     NaN   \n",
       "25%             NaN                  NaN                NaN     NaN   \n",
       "50%             NaN                  NaN                NaN     NaN   \n",
       "75%             NaN                  NaN                NaN     NaN   \n",
       "max             NaN                  NaN                NaN     NaN   \n",
       "\n",
       "       Surface Condition     Light Traffic Control Driver Substance Abuse  \\\n",
       "count             150646    169188          145316                 139546   \n",
       "unique                11         8              11                     11   \n",
       "top                  DRY  DAYLIGHT     NO CONTROLS          NONE DETECTED   \n",
       "freq              119586    115426           68001                 121467   \n",
       "mean                 NaN       NaN             NaN                    NaN   \n",
       "std                  NaN       NaN             NaN                    NaN   \n",
       "min                  NaN       NaN             NaN                    NaN   \n",
       "25%                  NaN       NaN             NaN                    NaN   \n",
       "50%                  NaN       NaN             NaN                    NaN   \n",
       "75%                  NaN       NaN             NaN                    NaN   \n",
       "max                  NaN       NaN             NaN                    NaN   \n",
       "\n",
       "       Non-Motorist Substance Abuse                             Person ID  \\\n",
       "count                          4287                                170604   \n",
       "unique                           15                                170604   \n",
       "top                   NONE DETECTED  DE2A24CD-7919-4F8D-BABF-5B75CE12D21E   \n",
       "freq                           3834                                     1   \n",
       "mean                            NaN                                   NaN   \n",
       "std                             NaN                                   NaN   \n",
       "min                             NaN                                   NaN   \n",
       "25%                             NaN                                   NaN   \n",
       "50%                             NaN                                   NaN   \n",
       "75%                             NaN                                   NaN   \n",
       "max                             NaN                                   NaN   \n",
       "\n",
       "       Driver At Fault     Injury Severity     Circumstance  \\\n",
       "count           170604              170604            30999   \n",
       "unique               3                   5              197   \n",
       "top                Yes  NO APPARENT INJURY  RAIN, SNOW, WET   \n",
       "freq             91634              139933            12019   \n",
       "mean               NaN                 NaN              NaN   \n",
       "std                NaN                 NaN              NaN   \n",
       "min                NaN                 NaN              NaN   \n",
       "25%                NaN                 NaN              NaN   \n",
       "50%                NaN                 NaN              NaN   \n",
       "75%                NaN                 NaN              NaN   \n",
       "max                NaN                 NaN              NaN   \n",
       "\n",
       "       Driver Distracted By Drivers License State  \\\n",
       "count                170604                160767   \n",
       "unique                   19                    74   \n",
       "top          NOT DISTRACTED                    MD   \n",
       "freq                 105841                141609   \n",
       "mean                    NaN                   NaN   \n",
       "std                     NaN                   NaN   \n",
       "min                     NaN                   NaN   \n",
       "25%                     NaN                   NaN   \n",
       "50%                     NaN                   NaN   \n",
       "75%                     NaN                   NaN   \n",
       "max                     NaN                   NaN   \n",
       "\n",
       "                                  Vehicle ID Vehicle Damage Extent  \\\n",
       "count                                 170604                170291   \n",
       "unique                                170604                     7   \n",
       "top     165AD539-A8C8-4004-AF73-B7DCAAA8B3CC             DISABLING   \n",
       "freq                                       1                 61776   \n",
       "mean                                     NaN                   NaN   \n",
       "std                                      NaN                   NaN   \n",
       "min                                      NaN                   NaN   \n",
       "25%                                      NaN                   NaN   \n",
       "50%                                      NaN                   NaN   \n",
       "75%                                      NaN                   NaN   \n",
       "max                                      NaN                   NaN   \n",
       "\n",
       "       Vehicle First Impact Location Vehicle Second Impact Location  \\\n",
       "count                         170448                         170348   \n",
       "unique                            16                             16   \n",
       "top                    TWELVE OCLOCK                  TWELVE OCLOCK   \n",
       "freq                           67389                          67145   \n",
       "mean                             NaN                            NaN   \n",
       "std                              NaN                            NaN   \n",
       "min                              NaN                            NaN   \n",
       "25%                              NaN                            NaN   \n",
       "50%                              NaN                            NaN   \n",
       "75%                              NaN                            NaN   \n",
       "max                              NaN                            NaN   \n",
       "\n",
       "       Vehicle Body Type       Vehicle Movement Vehicle Continuing Dir  \\\n",
       "count             167980                 170225                 167942   \n",
       "unique                30                     22                      5   \n",
       "top        PASSENGER CAR  MOVING CONSTANT SPEED                  North   \n",
       "freq              118028                  66566                  46441   \n",
       "mean                 NaN                    NaN                    NaN   \n",
       "std                  NaN                    NaN                    NaN   \n",
       "min                  NaN                    NaN                    NaN   \n",
       "25%                  NaN                    NaN                    NaN   \n",
       "50%                  NaN                    NaN                    NaN   \n",
       "75%                  NaN                    NaN                    NaN   \n",
       "max                  NaN                    NaN                    NaN   \n",
       "\n",
       "       Vehicle Going Dir    Speed Limit Driverless Vehicle Parked Vehicle  \\\n",
       "count             167942  170604.000000             170604         170604   \n",
       "unique                 5            NaN                  2              2   \n",
       "top                North            NaN                 No             No   \n",
       "freq               47232            NaN             169868         167942   \n",
       "mean                 NaN      32.550028                NaN            NaN   \n",
       "std                  NaN      11.059808                NaN            NaN   \n",
       "min                  NaN       0.000000                NaN            NaN   \n",
       "25%                  NaN      25.000000                NaN            NaN   \n",
       "50%                  NaN      35.000000                NaN            NaN   \n",
       "75%                  NaN      40.000000                NaN            NaN   \n",
       "max                  NaN      75.000000                NaN            NaN   \n",
       "\n",
       "         Vehicle Year Vehicle Make Vehicle Model Equipment Problems  \\\n",
       "count   170604.000000       170580        170538             136672   \n",
       "unique            NaN         1868          6652                 10   \n",
       "top               NaN       TOYOTA            4S          NO MISUSE   \n",
       "freq              NaN        22963         13682             122312   \n",
       "mean      1966.381785          NaN           NaN                NaN   \n",
       "std        340.687251          NaN           NaN                NaN   \n",
       "min          0.000000          NaN           NaN                NaN   \n",
       "25%       2006.000000          NaN           NaN                NaN   \n",
       "50%       2011.000000          NaN           NaN                NaN   \n",
       "75%       2015.000000          NaN           NaN                NaN   \n",
       "max       9999.000000          NaN           NaN                NaN   \n",
       "\n",
       "             Latitude      Longitude           Location  \n",
       "count   170604.000000  170604.000000             170604  \n",
       "unique            NaN            NaN              95154  \n",
       "top               NaN            NaN  (38.953, -77.338)  \n",
       "freq              NaN            NaN                 45  \n",
       "mean        39.083072     -77.112348                NaN  \n",
       "std          0.072046       0.098564                NaN  \n",
       "min         37.720000     -79.486000                NaN  \n",
       "25%         39.024294     -77.189252                NaN  \n",
       "50%         39.074923     -77.105429                NaN  \n",
       "75%         39.139708     -77.039628                NaN  \n",
       "max         39.990414     -75.527708                NaN  "
      ]
     },
     "execution_count": 13,
     "metadata": {},
     "output_type": "execute_result"
    }
   ],
   "source": [
    "df1.describe(include=\"all\")"
   ]
  },
  {
   "cell_type": "markdown",
   "id": "cef63d6c-5519-467c-ae59-fa5a3affb27f",
   "metadata": {},
   "source": [
    "Data Preparation \n",
    "Dropping irrelevant columns and rows \n",
    "Identifying duplicated columns \n",
    "Renaming Columns Feature Creation"
   ]
  },
  {
   "cell_type": "code",
   "execution_count": 4,
   "id": "1afde3fb-39d9-4b4b-b3d1-43e00d56805e",
   "metadata": {},
   "outputs": [
    {
     "name": "stdout",
     "output_type": "stream",
     "text": [
      "Index(['Crash Date/Time', 'Driver At Fault', 'Injury Severity',\n",
      "       'Driver Distracted By', 'Vehicle Damage Extent', 'Vehicle Body Type',\n",
      "       'Vehicle Movement', 'Speed Limit', 'Driverless Vehicle',\n",
      "       'Parked Vehicle', 'Vehicle Year', 'Vehicle Make', 'Vehicle Model',\n",
      "       'Latitude', 'Longitude', 'Location'],\n",
      "      dtype='object')\n"
     ]
    }
   ],
   "source": [
    "#Three approaches to drop columns\n",
    "#method 1\n",
    "df=df1[[#'Report Number', 'Local Case Number', 'Agency Name', 'ACRS Report Type',\n",
    "       'Crash Date/Time', #'Route Type', #'Road Name', \n",
    "       #'Cross-Street Type',\n",
    "       #'Cross-Street Name', 'Off-Road Description', #'Municipality',\n",
    "       #'Related Non-Motorist',\n",
    "       #'Collision Type', 'Weather',\n",
    "       #'Surface Condition',\n",
    "       # 'Light', #'Traffic Control',\n",
    "       #'Driver Substance Abuse', 'Non-Motorist Substance Abuse', #'Person ID',\n",
    "       'Driver At Fault', 'Injury Severity', #'Circumstance',\n",
    "       'Driver Distracted By', #'Drivers License State', #'Vehicle ID',\n",
    "       'Vehicle Damage Extent', #'Vehicle First Impact Location',\n",
    "       #'Vehicle Second Impact Location', \n",
    "       'Vehicle Body Type',\n",
    "       'Vehicle Movement', #'Vehicle Continuing Dir', 'Vehicle Going Dir',\n",
    "       'Speed Limit', 'Driverless Vehicle', 'Parked Vehicle', 'Vehicle Year',\n",
    "       'Vehicle Make', 'Vehicle Model', #'Equipment Problems', \n",
    "       'Latitude',\n",
    "       'Longitude', 'Location']].copy()\n",
    "print(df.columns)"
   ]
  },
  {
   "cell_type": "code",
   "execution_count": 15,
   "id": "a80c4f4b-a71b-4fb1-b609-ca0eba683a1f",
   "metadata": {},
   "outputs": [],
   "source": [
    "#method 2\n",
    "#df=df1.drop(columns=['Report Number', 'Local Case Number', 'Agency Name', 'ACRS Report Type','Municipality','Person ID','Vehicle Continuing Dir', 'Vehicle Going Dir','Vehicle First Impact Location','Vehicle Second Impact Location'],inplace=True)   \n",
    "#print(df.columns)\n"
   ]
  },
  {
   "cell_type": "code",
   "execution_count": 16,
   "id": "5bb834e6-1fab-4992-a731-5a5c14e9161d",
   "metadata": {},
   "outputs": [],
   "source": [
    "#method 3\n",
    "#df=df1.drop(['Report Number', 'Local Case Number', 'Agency Name', 'ACRS Report Type','Municipality','Person ID','Vehicle Continuing Dir', 'Vehicle Going Dir','Vehicle First Impact Location','Vehicle Second Impact Location'],axis=1)   \n",
    "#print(\"removing columns by drop:\\n\", df.columns)"
   ]
  },
  {
   "cell_type": "code",
   "execution_count": 5,
   "id": "a6834e25-fdeb-4691-80d1-b0110d0a4d2c",
   "metadata": {},
   "outputs": [
    {
     "data": {
      "text/plain": [
       "Index(['Crash_Date_Time', 'Driver_At_Fault', 'Injury_Severity',\n",
       "       'Driver_Distracted_By', 'Vehicle_Damage_Extent', 'Vehicle_Body_Type',\n",
       "       'Vehicle_Movement', 'Speed_Limit', 'Driverless_Vehicle',\n",
       "       'Parked_Vehicle', 'Vehicle_Year', 'Vehicle_Make', 'Vehicle_Model',\n",
       "       'Latitude', 'Longitude', 'Location'],\n",
       "      dtype='object')"
      ]
     },
     "execution_count": 5,
     "metadata": {},
     "output_type": "execute_result"
    }
   ],
   "source": [
    "#Renaming columns\n",
    "df=df.rename(columns={ \n",
    "    \"Crash Date/Time\":\"Crash_Date_Time\",\n",
    "    \"Route Type\":\"Route_Type\",\n",
    "    \"Driver At Fault\":\"Driver_At_Fault\",\n",
    "    \"Injury Severity\":\"Injury_Severity\",\n",
    "    \"Driver Distracted By\":\"Driver_Distracted_By\", \n",
    "    \"Vehicle Damage Extent\":\"Vehicle_Damage_Extent\",\n",
    "    \"Vehicle Body Type\":\"Vehicle_Body_Type\",\n",
    "    \"Vehicle Movement\":\"Vehicle_Movement\", \n",
    "    \"Speed Limit\":\"Speed_Limit\", \n",
    "    \"Driverless Vehicle\":\"Driverless_Vehicle\",\n",
    "    \"Parked Vehicle\":\"Parked_Vehicle\",\n",
    "    \"Vehicle Year\":\"Vehicle_Year\", \n",
    "    \"Vehicle Make\":\"Vehicle_Make\",\n",
    "    \"Vehicle Model\":\"Vehicle_Model\"  }) \n",
    "df.columns"
   ]
  },
  {
   "cell_type": "code",
   "execution_count": 18,
   "id": "7949e80e-be02-4d4f-a1b0-59bdb6b58c38",
   "metadata": {},
   "outputs": [
    {
     "name": "stdout",
     "output_type": "stream",
     "text": [
      "columns with missing values: Index(['Vehicle_Damage_Extent', 'Vehicle_Body_Type', 'Vehicle_Movement',\n",
      "       'Vehicle_Make', 'Vehicle_Model'],\n",
      "      dtype='object')\n"
     ]
    },
    {
     "name": "stderr",
     "output_type": "stream",
     "text": [
      "/home/heewa/anaconda3/lib/python3.11/site-packages/numpy/core/fromnumeric.py:86: FutureWarning: The behavior of DataFrame.sum with axis=None is deprecated, in a future version this will reduce over both axes and return a scalar. To retain the old behavior, pass axis=0 (or do not pass axis)\n",
      "  return reduction(axis=axis, out=out, **passkwargs)\n"
     ]
    }
   ],
   "source": [
    "#Missing values\n",
    "#print(\"missing values:\\n\",df.isna().sum() )\n",
    "#print(df.shape)\n",
    "# Checking for columns with missing values\n",
    "missing_values=df.columns[np.sum(df.isna())!=0]\n",
    "print(\"columns with missing values:\", missing_values)  "
   ]
  },
  {
   "cell_type": "code",
   "execution_count": 19,
   "id": "0c48fa59-1104-4b32-a97b-03d97685c79f",
   "metadata": {},
   "outputs": [
    {
     "name": "stdout",
     "output_type": "stream",
     "text": [
      "columns with no missing values: Index(['Crash_Date_Time', 'Driver_At_Fault', 'Injury_Severity',\n",
      "       'Driver_Distracted_By', 'Speed_Limit', 'Driverless_Vehicle',\n",
      "       'Parked_Vehicle', 'Vehicle_Year', 'Latitude', 'Longitude', 'Location'],\n",
      "      dtype='object')\n"
     ]
    }
   ],
   "source": [
    "no_missing_values=df.columns[np.sum(df.isna())==0]\n",
    "print(\"columns with no missing values:\", no_missing_values)"
   ]
  },
  {
   "cell_type": "code",
   "execution_count": 20,
   "id": "47c7987f-e705-4816-8748-6521549cc4b7",
   "metadata": {},
   "outputs": [
    {
     "name": "stdout",
     "output_type": "stream",
     "text": [
      "               Crash_Date_Time Driver_At_Fault     Injury_Severity  \\\n",
      "12296   11/28/2021 01:20:00 PM              No  NO APPARENT INJURY   \n",
      "25660   11/08/2022 01:27:00 PM              No  NO APPARENT INJURY   \n",
      "39573   05/09/2019 02:39:00 PM             Yes  NO APPARENT INJURY   \n",
      "41941   11/28/2018 08:15:00 PM              No  NO APPARENT INJURY   \n",
      "49008   05/09/2021 03:16:00 AM         Unknown  NO APPARENT INJURY   \n",
      "61915   06/19/2016 10:00:00 PM             Yes  NO APPARENT INJURY   \n",
      "65984   11/28/2018 08:15:00 PM              No  NO APPARENT INJURY   \n",
      "82797   08/10/2016 04:48:00 PM              No  NO APPARENT INJURY   \n",
      "84964   11/08/2022 01:27:00 PM              No  NO APPARENT INJURY   \n",
      "85518   08/10/2016 04:48:00 PM              No  NO APPARENT INJURY   \n",
      "86612   12/17/2016 02:45:00 PM             Yes  NO APPARENT INJURY   \n",
      "96094   05/09/2021 03:16:00 AM         Unknown  NO APPARENT INJURY   \n",
      "111809  11/28/2021 01:20:00 PM              No  NO APPARENT INJURY   \n",
      "113110  06/19/2016 10:00:00 PM             Yes  NO APPARENT INJURY   \n",
      "125828  12/17/2016 02:45:00 PM             Yes  NO APPARENT INJURY   \n",
      "128513  12/06/2022 02:49:00 PM         Unknown  NO APPARENT INJURY   \n",
      "147350  12/06/2022 02:49:00 PM         Unknown  NO APPARENT INJURY   \n",
      "161544  05/09/2019 02:39:00 PM             Yes  NO APPARENT INJURY   \n",
      "\n",
      "          Driver_Distracted_By Vehicle_Damage_Extent        Vehicle_Body_Type  \\\n",
      "12296   LOOKED BUT DID NOT SEE             DISABLING  (SPORT) UTILITY VEHICLE   \n",
      "25660           NOT DISTRACTED           SUPERFICIAL            PASSENGER CAR   \n",
      "39573           NOT DISTRACTED                   NaN                      NaN   \n",
      "41941           NOT DISTRACTED            FUNCTIONAL            PASSENGER CAR   \n",
      "49008                  UNKNOWN               UNKNOWN                  UNKNOWN   \n",
      "61915                  UNKNOWN             DISABLING            PASSENGER CAR   \n",
      "65984           NOT DISTRACTED            FUNCTIONAL            PASSENGER CAR   \n",
      "82797           NOT DISTRACTED           SUPERFICIAL            PASSENGER CAR   \n",
      "84964           NOT DISTRACTED           SUPERFICIAL            PASSENGER CAR   \n",
      "85518           NOT DISTRACTED           SUPERFICIAL            PASSENGER CAR   \n",
      "86612                  UNKNOWN            FUNCTIONAL                      NaN   \n",
      "96094                  UNKNOWN               UNKNOWN                  UNKNOWN   \n",
      "111809  LOOKED BUT DID NOT SEE             DISABLING  (SPORT) UTILITY VEHICLE   \n",
      "113110                 UNKNOWN             DISABLING            PASSENGER CAR   \n",
      "125828                 UNKNOWN            FUNCTIONAL                      NaN   \n",
      "128513          NOT DISTRACTED           SUPERFICIAL               SCHOOL BUS   \n",
      "147350          NOT DISTRACTED           SUPERFICIAL               SCHOOL BUS   \n",
      "161544          NOT DISTRACTED                   NaN                      NaN   \n",
      "\n",
      "               Vehicle_Movement  Speed_Limit Driverless_Vehicle  \\\n",
      "12296          MAKING LEFT TURN           35                 No   \n",
      "25660   STOPPED IN TRAFFIC LANE           40                 No   \n",
      "39573              ACCELERATING            0                 No   \n",
      "41941     MOVING CONSTANT SPEED           40                 No   \n",
      "49008                   UNKNOWN           35                 No   \n",
      "61915              ACCELERATING           30                 No   \n",
      "65984     MOVING CONSTANT SPEED           40                 No   \n",
      "82797   STOPPED IN TRAFFIC LANE           35                 No   \n",
      "84964   STOPPED IN TRAFFIC LANE           40                 No   \n",
      "85518   STOPPED IN TRAFFIC LANE           35                 No   \n",
      "86612     MOVING CONSTANT SPEED           35                 No   \n",
      "96094                   UNKNOWN           35                 No   \n",
      "111809         MAKING LEFT TURN           35                 No   \n",
      "113110             ACCELERATING           30                 No   \n",
      "125828    MOVING CONSTANT SPEED           35                 No   \n",
      "128513    MOVING CONSTANT SPEED            5                 No   \n",
      "147350    MOVING CONSTANT SPEED            5                 No   \n",
      "161544             ACCELERATING            0                 No   \n",
      "\n",
      "       Parked_Vehicle  Vehicle_Year Vehicle_Make Vehicle_Model   Latitude  \\\n",
      "12296              No          2018         HOND            TK  39.148316   \n",
      "25660              No          2022         CHEV            UT  39.111005   \n",
      "39573              No             0      UNKNOWN       UNKNOWN  39.043521   \n",
      "41941              No          2018       TOYOTA          RAV4  39.011057   \n",
      "49008              No             0      UNKNOWN       UNKNOWN  38.988487   \n",
      "61915              No          1997        MAZDA            CV  39.047034   \n",
      "65984              No          2018       TOYOTA          RAV4  39.011057   \n",
      "82797              No          2015       TOYOTA       COROLLA  39.086005   \n",
      "84964              No          2022         CHEV            UT  39.111005   \n",
      "85518              No          2015       TOYOTA       COROLLA  39.086005   \n",
      "86612              No             0      UNKNOWN       UNKNOWN  39.008195   \n",
      "96094              No             0      UNKNOWN       UNKNOWN  38.988487   \n",
      "111809             No          2018         HOND            TK  39.148316   \n",
      "113110             No          1997        MAZDA            CV  39.047034   \n",
      "125828             No             0      UNKNOWN       UNKNOWN  39.008195   \n",
      "128513             No          2022         THMS            BU  39.079865   \n",
      "147350             No          2022         THMS            BU  39.079865   \n",
      "161544             No             0      UNKNOWN       UNKNOWN  39.043521   \n",
      "\n",
      "        Longitude                     Location  \n",
      "12296  -77.206712    (39.1483165, -77.2067125)  \n",
      "25660  -77.037188    (39.111005, -77.03718833)  \n",
      "39573  -77.173418      (39.043521, -77.173418)  \n",
      "41941  -77.001608  (39.01105667, -77.00160833)  \n",
      "49008  -76.987865    (38.98848667, -76.987865)  \n",
      "61915  -77.036543  (39.04703425, -77.03654319)  \n",
      "65984  -77.001608  (39.01105667, -77.00160833)  \n",
      "82797  -77.149087    (39.086005, -77.14908667)  \n",
      "84964  -77.037188    (39.111005, -77.03718833)  \n",
      "85518  -77.149087    (39.086005, -77.14908667)  \n",
      "86612  -77.040003    (39.008195, -77.04000333)  \n",
      "96094  -76.987865    (38.98848667, -76.987865)  \n",
      "111809 -77.206712    (39.1483165, -77.2067125)  \n",
      "113110 -77.036543  (39.04703425, -77.03654319)  \n",
      "125828 -77.040003    (39.008195, -77.04000333)  \n",
      "128513 -77.146184   (39.07986476, -77.1461838)  \n",
      "147350 -77.146184   (39.07986476, -77.1461838)  \n",
      "161544 -77.173418      (39.043521, -77.173418)  \n"
     ]
    }
   ],
   "source": [
    "#Duplicating values\n",
    "#print(\"duplicated rows:\\n\",df[df.duplicated(keep=False)])\n",
    "print(df.loc[df.duplicated(keep=False)]) #give all rows that have duplicates"
   ]
  },
  {
   "cell_type": "code",
   "execution_count": 21,
   "id": "eba6c0b1-9368-497b-aa2c-9cce1d9fe245",
   "metadata": {},
   "outputs": [
    {
     "name": "stdout",
     "output_type": "stream",
     "text": [
      "               Crash_Date_Time Driver_At_Fault     Injury_Severity  \\\n",
      "12296   11/28/2021 01:20:00 PM              No  NO APPARENT INJURY   \n",
      "111809  11/28/2021 01:20:00 PM              No  NO APPARENT INJURY   \n",
      "\n",
      "          Driver_Distracted_By Vehicle_Damage_Extent        Vehicle_Body_Type  \\\n",
      "12296   LOOKED BUT DID NOT SEE             DISABLING  (SPORT) UTILITY VEHICLE   \n",
      "111809  LOOKED BUT DID NOT SEE             DISABLING  (SPORT) UTILITY VEHICLE   \n",
      "\n",
      "        Vehicle_Movement  Speed_Limit Driverless_Vehicle Parked_Vehicle  \\\n",
      "12296   MAKING LEFT TURN           35                 No             No   \n",
      "111809  MAKING LEFT TURN           35                 No             No   \n",
      "\n",
      "        Vehicle_Year Vehicle_Make Vehicle_Model   Latitude  Longitude  \\\n",
      "12296           2018         HOND            TK  39.148316 -77.206712   \n",
      "111809          2018         HOND            TK  39.148316 -77.206712   \n",
      "\n",
      "                         Location  \n",
      "12296   (39.1483165, -77.2067125)  \n",
      "111809  (39.1483165, -77.2067125)  \n"
     ]
    }
   ],
   "source": [
    "#duplicated_df=df.loc[df.duplicated(keep=\"first\")] #this keep the first occurrence of each set of duplicated rows #this mark all duplicates except the first occurrence as \"True\".\n",
    "df_HOND=df.query('Vehicle_Make==\"HOND\"')# 'query' is used to filter a df based on specific condition(typically filter rows based on condition in a column\n",
    "print(df_HOND[df_HOND.duplicated(keep=False)])\n"
   ]
  },
  {
   "cell_type": "code",
   "execution_count": 22,
   "id": "f6f8eac0-dcee-4ad0-9765-3bcc8542ff65",
   "metadata": {},
   "outputs": [
    {
     "name": "stdout",
     "output_type": "stream",
     "text": [
      "df_be: (170604, 16)\n",
      "df_af: (4798, 16)\n"
     ]
    }
   ],
   "source": [
    "#dropping duplicate rows based on specific columns\n",
    "print(\"df_be:\",df.shape)\n",
    "df_drop_on_columns=df.drop_duplicates(subset=[\"Vehicle_Make\", \"Speed_Limit\"],keep=\"first\")\n",
    "print(\"df_af:\",df_drop_on_columns.shape)"
   ]
  },
  {
   "cell_type": "code",
   "execution_count": 6,
   "id": "560fd888-0df4-4c45-aca9-d22691a2855c",
   "metadata": {},
   "outputs": [
    {
     "name": "stdout",
     "output_type": "stream",
     "text": [
      "(170595, 16)\n"
     ]
    }
   ],
   "source": [
    "# removing duplicate2\n",
    "df=df.loc[~df.duplicated()].reset_index(drop=True).copy()\n",
    "print(df.shape)"
   ]
  },
  {
   "cell_type": "code",
   "execution_count": 7,
   "id": "46019726-72c3-4aa2-b3d5-bd13edc76fe1",
   "metadata": {},
   "outputs": [
    {
     "name": "stderr",
     "output_type": "stream",
     "text": [
      "/tmp/ipykernel_17058/198520859.py:3: UserWarning: Could not infer format, so each element will be parsed individually, falling back to `dateutil`. To ensure parsing is consistent and as-expected, please specify a format.\n",
      "  df['Crash_Date_Time']=pd.to_datetime(df[\"Crash_Date_Time\"])\n"
     ]
    },
    {
     "name": "stdout",
     "output_type": "stream",
     "text": [
      "Crash_Date_Time dtype: datetime64[ns]\n"
     ]
    }
   ],
   "source": [
    "# Changing the data type from object to datetime for the OCCURRED_ON_DATE column\n",
    "\n",
    "df['Crash_Date_Time']=pd.to_datetime(df[\"Crash_Date_Time\"])\n",
    "print(\"Crash_Date_Time dtype:\",df['Crash_Date_Time'].dtypes)"
   ]
  },
  {
   "cell_type": "code",
   "execution_count": 8,
   "id": "70d87094-6e83-43a5-84f5-bfe8aaec6574",
   "metadata": {},
   "outputs": [
    {
     "name": "stdout",
     "output_type": "stream",
     "text": [
      "      Crash_Date_Time  Year  Month Day_of_Week  Hour\n",
      "0 2019-05-31 15:00:00  2019      5      Friday    15\n",
      "1 2019-05-24 17:00:00  2019      5      Friday    17\n",
      "2 2023-07-17 10:45:00  2023      7      Monday    10\n",
      "3 2023-07-20 23:40:00  2023      7    Thursday    23\n",
      "4 2023-07-13 17:40:00  2023      7    Thursday    17\n"
     ]
    }
   ],
   "source": [
    "#extract datetime components from the Crash_Date_Time column\n",
    "df[\"Year\"]=df['Crash_Date_Time'].dt.year\n",
    "df[\"Month\"]=df['Crash_Date_Time'].dt.month\n",
    "df[\"Day_of_Week\"]=df['Crash_Date_Time'].dt.day_name()\n",
    "df[\"Hour\"]=df['Crash_Date_Time'].dt.hour\n",
    "print(df[[\"Crash_Date_Time\", \"Year\", \"Month\", \"Day_of_Week\", \"Hour\"]].head())"
   ]
  },
  {
   "cell_type": "code",
   "execution_count": 26,
   "id": "16145219-2e1c-4dc5-8337-daf9e52151af",
   "metadata": {},
   "outputs": [
    {
     "data": {
      "text/plain": [
       "Index(['Crash_Date_Time', 'Driver_At_Fault', 'Injury_Severity',\n",
       "       'Driver_Distracted_By', 'Vehicle_Damage_Extent', 'Vehicle_Body_Type',\n",
       "       'Vehicle_Movement', 'Speed_Limit', 'Driverless_Vehicle',\n",
       "       'Parked_Vehicle', 'Vehicle_Year', 'Vehicle_Make', 'Vehicle_Model',\n",
       "       'Latitude', 'Longitude', 'Location', 'Year', 'Month', 'Day_of_Week',\n",
       "       'Hour'],\n",
       "      dtype='object')"
      ]
     },
     "execution_count": 26,
     "metadata": {},
     "output_type": "execute_result"
    }
   ],
   "source": [
    "df.columns"
   ]
  },
  {
   "cell_type": "code",
   "execution_count": 27,
   "id": "3de89408-286c-48e4-8ee5-cd18270ee01e",
   "metadata": {},
   "outputs": [
    {
     "data": {
      "text/html": [
       "<div>\n",
       "<style scoped>\n",
       "    .dataframe tbody tr th:only-of-type {\n",
       "        vertical-align: middle;\n",
       "    }\n",
       "\n",
       "    .dataframe tbody tr th {\n",
       "        vertical-align: top;\n",
       "    }\n",
       "\n",
       "    .dataframe thead th {\n",
       "        text-align: right;\n",
       "    }\n",
       "</style>\n",
       "<table border=\"1\" class=\"dataframe\">\n",
       "  <thead>\n",
       "    <tr style=\"text-align: right;\">\n",
       "      <th></th>\n",
       "      <th>Crash_Date_Time</th>\n",
       "      <th>Speed_Limit</th>\n",
       "      <th>Vehicle_Year</th>\n",
       "      <th>Latitude</th>\n",
       "      <th>Longitude</th>\n",
       "      <th>Year</th>\n",
       "      <th>Month</th>\n",
       "      <th>Hour</th>\n",
       "    </tr>\n",
       "  </thead>\n",
       "  <tbody>\n",
       "    <tr>\n",
       "      <th>count</th>\n",
       "      <td>170595</td>\n",
       "      <td>170595.000000</td>\n",
       "      <td>170595.000000</td>\n",
       "      <td>170595.000000</td>\n",
       "      <td>170595.000000</td>\n",
       "      <td>170595.000000</td>\n",
       "      <td>170595.000000</td>\n",
       "      <td>170595.000000</td>\n",
       "    </tr>\n",
       "    <tr>\n",
       "      <th>mean</th>\n",
       "      <td>2019-04-08 18:33:26.097951488</td>\n",
       "      <td>32.550251</td>\n",
       "      <td>1966.414643</td>\n",
       "      <td>39.083073</td>\n",
       "      <td>-77.112349</td>\n",
       "      <td>2018.754067</td>\n",
       "      <td>6.682107</td>\n",
       "      <td>13.345930</td>\n",
       "    </tr>\n",
       "    <tr>\n",
       "      <th>min</th>\n",
       "      <td>2015-01-01 00:30:00</td>\n",
       "      <td>0.000000</td>\n",
       "      <td>0.000000</td>\n",
       "      <td>37.720000</td>\n",
       "      <td>-79.486000</td>\n",
       "      <td>2015.000000</td>\n",
       "      <td>1.000000</td>\n",
       "      <td>0.000000</td>\n",
       "    </tr>\n",
       "    <tr>\n",
       "      <th>25%</th>\n",
       "      <td>2017-01-11 15:23:00</td>\n",
       "      <td>25.000000</td>\n",
       "      <td>2006.000000</td>\n",
       "      <td>39.024295</td>\n",
       "      <td>-77.189255</td>\n",
       "      <td>2017.000000</td>\n",
       "      <td>4.000000</td>\n",
       "      <td>9.000000</td>\n",
       "    </tr>\n",
       "    <tr>\n",
       "      <th>50%</th>\n",
       "      <td>2019-01-14 14:16:00</td>\n",
       "      <td>35.000000</td>\n",
       "      <td>2011.000000</td>\n",
       "      <td>39.074923</td>\n",
       "      <td>-77.105430</td>\n",
       "      <td>2019.000000</td>\n",
       "      <td>7.000000</td>\n",
       "      <td>14.000000</td>\n",
       "    </tr>\n",
       "    <tr>\n",
       "      <th>75%</th>\n",
       "      <td>2021-08-06 05:14:00</td>\n",
       "      <td>40.000000</td>\n",
       "      <td>2015.000000</td>\n",
       "      <td>39.139711</td>\n",
       "      <td>-77.039628</td>\n",
       "      <td>2021.000000</td>\n",
       "      <td>10.000000</td>\n",
       "      <td>17.000000</td>\n",
       "    </tr>\n",
       "    <tr>\n",
       "      <th>max</th>\n",
       "      <td>2023-12-06 21:54:00</td>\n",
       "      <td>75.000000</td>\n",
       "      <td>9999.000000</td>\n",
       "      <td>39.990414</td>\n",
       "      <td>-75.527708</td>\n",
       "      <td>2023.000000</td>\n",
       "      <td>12.000000</td>\n",
       "      <td>23.000000</td>\n",
       "    </tr>\n",
       "    <tr>\n",
       "      <th>std</th>\n",
       "      <td>NaN</td>\n",
       "      <td>11.059580</td>\n",
       "      <td>340.596302</td>\n",
       "      <td>0.072047</td>\n",
       "      <td>0.098565</td>\n",
       "      <td>2.577128</td>\n",
       "      <td>3.450580</td>\n",
       "      <td>5.262939</td>\n",
       "    </tr>\n",
       "  </tbody>\n",
       "</table>\n",
       "</div>"
      ],
      "text/plain": [
       "                     Crash_Date_Time    Speed_Limit   Vehicle_Year  \\\n",
       "count                         170595  170595.000000  170595.000000   \n",
       "mean   2019-04-08 18:33:26.097951488      32.550251    1966.414643   \n",
       "min              2015-01-01 00:30:00       0.000000       0.000000   \n",
       "25%              2017-01-11 15:23:00      25.000000    2006.000000   \n",
       "50%              2019-01-14 14:16:00      35.000000    2011.000000   \n",
       "75%              2021-08-06 05:14:00      40.000000    2015.000000   \n",
       "max              2023-12-06 21:54:00      75.000000    9999.000000   \n",
       "std                              NaN      11.059580     340.596302   \n",
       "\n",
       "            Latitude      Longitude           Year          Month  \\\n",
       "count  170595.000000  170595.000000  170595.000000  170595.000000   \n",
       "mean       39.083073     -77.112349    2018.754067       6.682107   \n",
       "min        37.720000     -79.486000    2015.000000       1.000000   \n",
       "25%        39.024295     -77.189255    2017.000000       4.000000   \n",
       "50%        39.074923     -77.105430    2019.000000       7.000000   \n",
       "75%        39.139711     -77.039628    2021.000000      10.000000   \n",
       "max        39.990414     -75.527708    2023.000000      12.000000   \n",
       "std         0.072047       0.098565       2.577128       3.450580   \n",
       "\n",
       "                Hour  \n",
       "count  170595.000000  \n",
       "mean       13.345930  \n",
       "min         0.000000  \n",
       "25%         9.000000  \n",
       "50%        14.000000  \n",
       "75%        17.000000  \n",
       "max        23.000000  \n",
       "std         5.262939  "
      ]
     },
     "execution_count": 27,
     "metadata": {},
     "output_type": "execute_result"
    }
   ],
   "source": [
    "df.describe() # summary information on the numeric columns"
   ]
  },
  {
   "cell_type": "code",
   "execution_count": 28,
   "id": "949c9b09-57a1-447b-b48c-1a284e21c7d7",
   "metadata": {},
   "outputs": [
    {
     "name": "stdout",
     "output_type": "stream",
     "text": [
      "<class 'pandas.core.frame.DataFrame'>\n",
      "RangeIndex: 170595 entries, 0 to 170594\n",
      "Data columns (total 20 columns):\n",
      " #   Column                 Non-Null Count   Dtype         \n",
      "---  ------                 --------------   -----         \n",
      " 0   Crash_Date_Time        170595 non-null  datetime64[ns]\n",
      " 1   Driver_At_Fault        170595 non-null  object        \n",
      " 2   Injury_Severity        170595 non-null  object        \n",
      " 3   Driver_Distracted_By   170595 non-null  object        \n",
      " 4   Vehicle_Damage_Extent  170283 non-null  object        \n",
      " 5   Vehicle_Body_Type      167973 non-null  object        \n",
      " 6   Vehicle_Movement       170216 non-null  object        \n",
      " 7   Speed_Limit            170595 non-null  int64         \n",
      " 8   Driverless_Vehicle     170595 non-null  object        \n",
      " 9   Parked_Vehicle         170595 non-null  object        \n",
      " 10  Vehicle_Year           170595 non-null  int64         \n",
      " 11  Vehicle_Make           170571 non-null  object        \n",
      " 12  Vehicle_Model          170529 non-null  object        \n",
      " 13  Latitude               170595 non-null  float64       \n",
      " 14  Longitude              170595 non-null  float64       \n",
      " 15  Location               170595 non-null  object        \n",
      " 16  Year                   170595 non-null  int32         \n",
      " 17  Month                  170595 non-null  int32         \n",
      " 18  Day_of_Week            170595 non-null  object        \n",
      " 19  Hour                   170595 non-null  int32         \n",
      "dtypes: datetime64[ns](1), float64(2), int32(3), int64(2), object(12)\n",
      "memory usage: 24.1+ MB\n"
     ]
    }
   ],
   "source": [
    "df.info()"
   ]
  },
  {
   "cell_type": "code",
   "execution_count": 8,
   "id": "df6fcc55-aae1-4765-b691-51a3a171f649",
   "metadata": {},
   "outputs": [
    {
     "data": {
      "text/html": [
       "<div>\n",
       "<style scoped>\n",
       "    .dataframe tbody tr th:only-of-type {\n",
       "        vertical-align: middle;\n",
       "    }\n",
       "\n",
       "    .dataframe tbody tr th {\n",
       "        vertical-align: top;\n",
       "    }\n",
       "\n",
       "    .dataframe thead th {\n",
       "        text-align: right;\n",
       "    }\n",
       "</style>\n",
       "<table border=\"1\" class=\"dataframe\">\n",
       "  <thead>\n",
       "    <tr style=\"text-align: right;\">\n",
       "      <th></th>\n",
       "      <th>Crash_Date_Time</th>\n",
       "      <th>Driver_At_Fault</th>\n",
       "      <th>Injury_Severity</th>\n",
       "      <th>Driver_Distracted_By</th>\n",
       "      <th>Vehicle_Damage_Extent</th>\n",
       "      <th>Vehicle_Body_Type</th>\n",
       "      <th>Vehicle_Movement</th>\n",
       "      <th>Speed_Limit</th>\n",
       "      <th>Driverless_Vehicle</th>\n",
       "      <th>Parked_Vehicle</th>\n",
       "      <th>Vehicle_Year</th>\n",
       "      <th>Vehicle_Make</th>\n",
       "      <th>Vehicle_Model</th>\n",
       "      <th>Latitude</th>\n",
       "      <th>Longitude</th>\n",
       "      <th>Location</th>\n",
       "      <th>Year</th>\n",
       "      <th>Month</th>\n",
       "      <th>Day_of_Week</th>\n",
       "      <th>Hour</th>\n",
       "    </tr>\n",
       "  </thead>\n",
       "  <tbody>\n",
       "    <tr>\n",
       "      <th>0</th>\n",
       "      <td>2023-12-06 21:54:00</td>\n",
       "      <td>No</td>\n",
       "      <td>NO APPARENT INJURY</td>\n",
       "      <td>NOT DISTRACTED</td>\n",
       "      <td>DESTROYED</td>\n",
       "      <td>PASSENGER CAR</td>\n",
       "      <td>ACCELERATING</td>\n",
       "      <td>50</td>\n",
       "      <td>No</td>\n",
       "      <td>No</td>\n",
       "      <td>2015</td>\n",
       "      <td>HOND</td>\n",
       "      <td>SD</td>\n",
       "      <td>39.158013</td>\n",
       "      <td>-77.192055</td>\n",
       "      <td>(39.15801333, -77.192055)</td>\n",
       "      <td>2023</td>\n",
       "      <td>12</td>\n",
       "      <td>Wednesday</td>\n",
       "      <td>21</td>\n",
       "    </tr>\n",
       "    <tr>\n",
       "      <th>1</th>\n",
       "      <td>2023-12-06 21:54:00</td>\n",
       "      <td>Yes</td>\n",
       "      <td>NO APPARENT INJURY</td>\n",
       "      <td>TALKING OR LISTENING TO CELLULAR PHONE</td>\n",
       "      <td>DESTROYED</td>\n",
       "      <td>PASSENGER CAR</td>\n",
       "      <td>ACCELERATING</td>\n",
       "      <td>50</td>\n",
       "      <td>No</td>\n",
       "      <td>No</td>\n",
       "      <td>2018</td>\n",
       "      <td>HOND</td>\n",
       "      <td>4S</td>\n",
       "      <td>39.158013</td>\n",
       "      <td>-77.192055</td>\n",
       "      <td>(39.15801333, -77.192055)</td>\n",
       "      <td>2023</td>\n",
       "      <td>12</td>\n",
       "      <td>Wednesday</td>\n",
       "      <td>21</td>\n",
       "    </tr>\n",
       "    <tr>\n",
       "      <th>2</th>\n",
       "      <td>2023-12-06 19:05:00</td>\n",
       "      <td>Yes</td>\n",
       "      <td>NO APPARENT INJURY</td>\n",
       "      <td>LOOKED BUT DID NOT SEE</td>\n",
       "      <td>SUPERFICIAL</td>\n",
       "      <td>PASSENGER CAR</td>\n",
       "      <td>MAKING RIGHT TURN</td>\n",
       "      <td>25</td>\n",
       "      <td>No</td>\n",
       "      <td>No</td>\n",
       "      <td>2022</td>\n",
       "      <td>NFLY</td>\n",
       "      <td>548</td>\n",
       "      <td>38.985911</td>\n",
       "      <td>-77.094933</td>\n",
       "      <td>(38.98591127, -77.09493278)</td>\n",
       "      <td>2023</td>\n",
       "      <td>12</td>\n",
       "      <td>Wednesday</td>\n",
       "      <td>19</td>\n",
       "    </tr>\n",
       "    <tr>\n",
       "      <th>3</th>\n",
       "      <td>2023-12-06 17:53:00</td>\n",
       "      <td>Yes</td>\n",
       "      <td>NO APPARENT INJURY</td>\n",
       "      <td>LOOKED BUT DID NOT SEE</td>\n",
       "      <td>FUNCTIONAL</td>\n",
       "      <td>PASSENGER CAR</td>\n",
       "      <td>MAKING LEFT TURN</td>\n",
       "      <td>35</td>\n",
       "      <td>No</td>\n",
       "      <td>No</td>\n",
       "      <td>2018</td>\n",
       "      <td>BMW</td>\n",
       "      <td>330I</td>\n",
       "      <td>39.090122</td>\n",
       "      <td>-77.044890</td>\n",
       "      <td>(39.09012167, -77.04489)</td>\n",
       "      <td>2023</td>\n",
       "      <td>12</td>\n",
       "      <td>Wednesday</td>\n",
       "      <td>17</td>\n",
       "    </tr>\n",
       "    <tr>\n",
       "      <th>4</th>\n",
       "      <td>2023-12-06 17:53:00</td>\n",
       "      <td>No</td>\n",
       "      <td>NO APPARENT INJURY</td>\n",
       "      <td>NOT DISTRACTED</td>\n",
       "      <td>FUNCTIONAL</td>\n",
       "      <td>PASSENGER CAR</td>\n",
       "      <td>MAKING RIGHT TURN</td>\n",
       "      <td>35</td>\n",
       "      <td>No</td>\n",
       "      <td>No</td>\n",
       "      <td>2017</td>\n",
       "      <td>FORD</td>\n",
       "      <td>ESCAPE</td>\n",
       "      <td>39.090122</td>\n",
       "      <td>-77.044890</td>\n",
       "      <td>(39.09012167, -77.04489)</td>\n",
       "      <td>2023</td>\n",
       "      <td>12</td>\n",
       "      <td>Wednesday</td>\n",
       "      <td>17</td>\n",
       "    </tr>\n",
       "  </tbody>\n",
       "</table>\n",
       "</div>"
      ],
      "text/plain": [
       "      Crash_Date_Time Driver_At_Fault     Injury_Severity  \\\n",
       "0 2023-12-06 21:54:00              No  NO APPARENT INJURY   \n",
       "1 2023-12-06 21:54:00             Yes  NO APPARENT INJURY   \n",
       "2 2023-12-06 19:05:00             Yes  NO APPARENT INJURY   \n",
       "3 2023-12-06 17:53:00             Yes  NO APPARENT INJURY   \n",
       "4 2023-12-06 17:53:00              No  NO APPARENT INJURY   \n",
       "\n",
       "                     Driver_Distracted_By Vehicle_Damage_Extent  \\\n",
       "0                          NOT DISTRACTED             DESTROYED   \n",
       "1  TALKING OR LISTENING TO CELLULAR PHONE             DESTROYED   \n",
       "2                  LOOKED BUT DID NOT SEE           SUPERFICIAL   \n",
       "3                  LOOKED BUT DID NOT SEE            FUNCTIONAL   \n",
       "4                          NOT DISTRACTED            FUNCTIONAL   \n",
       "\n",
       "  Vehicle_Body_Type   Vehicle_Movement  Speed_Limit Driverless_Vehicle  \\\n",
       "0     PASSENGER CAR       ACCELERATING           50                 No   \n",
       "1     PASSENGER CAR       ACCELERATING           50                 No   \n",
       "2     PASSENGER CAR  MAKING RIGHT TURN           25                 No   \n",
       "3     PASSENGER CAR   MAKING LEFT TURN           35                 No   \n",
       "4     PASSENGER CAR  MAKING RIGHT TURN           35                 No   \n",
       "\n",
       "  Parked_Vehicle  Vehicle_Year Vehicle_Make Vehicle_Model   Latitude  \\\n",
       "0             No          2015         HOND            SD  39.158013   \n",
       "1             No          2018         HOND            4S  39.158013   \n",
       "2             No          2022         NFLY           548  38.985911   \n",
       "3             No          2018          BMW          330I  39.090122   \n",
       "4             No          2017         FORD        ESCAPE  39.090122   \n",
       "\n",
       "   Longitude                     Location  Year  Month Day_of_Week  Hour  \n",
       "0 -77.192055    (39.15801333, -77.192055)  2023     12   Wednesday    21  \n",
       "1 -77.192055    (39.15801333, -77.192055)  2023     12   Wednesday    21  \n",
       "2 -77.094933  (38.98591127, -77.09493278)  2023     12   Wednesday    19  \n",
       "3 -77.044890     (39.09012167, -77.04489)  2023     12   Wednesday    17  \n",
       "4 -77.044890     (39.09012167, -77.04489)  2023     12   Wednesday    17  "
      ]
     },
     "execution_count": 8,
     "metadata": {},
     "output_type": "execute_result"
    }
   ],
   "source": [
    "df=df.sort_values(by='Crash_Date_Time',ascending=False).reset_index(drop=True) #'reset_index()'adds a new index column and keep the old index. to dropthe old index, we ude 'drop=True'\n",
    "df.head()"
   ]
  },
  {
   "cell_type": "markdown",
   "id": "1e55274a-482a-4e00-a97e-872f22ee29d9",
   "metadata": {},
   "source": [
    "#Feature Understanding\n",
    "##plotting Feature Distribution(potential outliers are detected)\n",
    "###Histogram\n",
    "###KDE\n",
    "###Boxplot"
   ]
  },
  {
   "cell_type": "code",
   "execution_count": 30,
   "id": "d16e0f91-93bf-4dd0-a9c9-1c23f71f4866",
   "metadata": {},
   "outputs": [],
   "source": [
    "#ax=df[\"Year\"].value_counts().sort_index()\\\n",
    "      # .plot(kind=\"bar\", title=\"Crash Count per Year\", color=colors)\n",
    "#ax.set_xlabel(\"Year\")\n",
    "#ax.set_ylabel(\"Counts\")             \n",
    "#plt.show()"
   ]
  },
  {
   "cell_type": "code",
   "execution_count": 31,
   "id": "7c281c03-de6f-4511-8c64-f00f97f41063",
   "metadata": {},
   "outputs": [
    {
     "data": {
      "text/html": [
       "<div>\n",
       "<style scoped>\n",
       "    .dataframe tbody tr th:only-of-type {\n",
       "        vertical-align: middle;\n",
       "    }\n",
       "\n",
       "    .dataframe tbody tr th {\n",
       "        vertical-align: top;\n",
       "    }\n",
       "\n",
       "    .dataframe thead th {\n",
       "        text-align: right;\n",
       "    }\n",
       "</style>\n",
       "<table border=\"1\" class=\"dataframe\">\n",
       "  <thead>\n",
       "    <tr style=\"text-align: right;\">\n",
       "      <th></th>\n",
       "      <th>Year</th>\n",
       "      <th>Month</th>\n",
       "      <th>Crash Count</th>\n",
       "    </tr>\n",
       "  </thead>\n",
       "  <tbody>\n",
       "    <tr>\n",
       "      <th>0</th>\n",
       "      <td>2015</td>\n",
       "      <td>1</td>\n",
       "      <td>1617</td>\n",
       "    </tr>\n",
       "    <tr>\n",
       "      <th>1</th>\n",
       "      <td>2015</td>\n",
       "      <td>2</td>\n",
       "      <td>1567</td>\n",
       "    </tr>\n",
       "    <tr>\n",
       "      <th>2</th>\n",
       "      <td>2015</td>\n",
       "      <td>3</td>\n",
       "      <td>1438</td>\n",
       "    </tr>\n",
       "    <tr>\n",
       "      <th>3</th>\n",
       "      <td>2015</td>\n",
       "      <td>4</td>\n",
       "      <td>1528</td>\n",
       "    </tr>\n",
       "    <tr>\n",
       "      <th>4</th>\n",
       "      <td>2015</td>\n",
       "      <td>5</td>\n",
       "      <td>1846</td>\n",
       "    </tr>\n",
       "    <tr>\n",
       "      <th>5</th>\n",
       "      <td>2015</td>\n",
       "      <td>6</td>\n",
       "      <td>1581</td>\n",
       "    </tr>\n",
       "    <tr>\n",
       "      <th>6</th>\n",
       "      <td>2015</td>\n",
       "      <td>7</td>\n",
       "      <td>1506</td>\n",
       "    </tr>\n",
       "    <tr>\n",
       "      <th>7</th>\n",
       "      <td>2015</td>\n",
       "      <td>8</td>\n",
       "      <td>1548</td>\n",
       "    </tr>\n",
       "    <tr>\n",
       "      <th>8</th>\n",
       "      <td>2015</td>\n",
       "      <td>9</td>\n",
       "      <td>1794</td>\n",
       "    </tr>\n",
       "    <tr>\n",
       "      <th>9</th>\n",
       "      <td>2015</td>\n",
       "      <td>10</td>\n",
       "      <td>2004</td>\n",
       "    </tr>\n",
       "  </tbody>\n",
       "</table>\n",
       "</div>"
      ],
      "text/plain": [
       "   Year  Month  Crash Count\n",
       "0  2015      1         1617\n",
       "1  2015      2         1567\n",
       "2  2015      3         1438\n",
       "3  2015      4         1528\n",
       "4  2015      5         1846\n",
       "5  2015      6         1581\n",
       "6  2015      7         1506\n",
       "7  2015      8         1548\n",
       "8  2015      9         1794\n",
       "9  2015     10         2004"
      ]
     },
     "execution_count": 31,
     "metadata": {},
     "output_type": "execute_result"
    }
   ],
   "source": [
    "\n",
    "monthly_crashes=df.groupby([\"Year\",\"Month\"]).size().reset_index(name=\"Crash Count\")\n",
    "monthly_crashes.head(10)\n",
    " \n",
    " "
   ]
  },
  {
   "cell_type": "code",
   "execution_count": 32,
   "id": "263370e8-15dc-45fe-be38-9070a17b0185",
   "metadata": {},
   "outputs": [],
   "source": [
    "#monthly_crashes=df.groupby([\"Year\",\"Month\"]).size().reset_index(name=\"Crash Count\")\n",
    "#monthly_crashes=monthly_crashes[~((monthly_crashes[\"Year\"]==2023)&(monthly_crashes[\"Month\"]==12))]\n",
    "#sns.set(style=\"whitegrid\")\n",
    "#plt.figure(figsize=(8,6))\n",
    "#palette=sns.color_palette(\"Set1\",n_colors=len(monthly_crashes[\"Year\"].unique()))\n",
    "#for i,year in enumerate(monthly_crashes[\"Year\"].unique()):\n",
    "    #year_data=monthly_crashes[monthly_crashes[\"Year\"]==year]\n",
    "    #plt.plot(year_data[\"Month\"],year_data[\"Crash Count\"],label=str(year),marker=\"o\",linestyle=\"-\", linewidth=1.5,color=palette[i])\n",
    "#plt.xlabel(\"Month\",fontsize=\"small\",weight=\"bold\")\n",
    "#plt.ylabel(\"Number of Crashes\",fontsize=\"small\",weight=\"bold\")\n",
    "#plt.legend(title=\"Year\", loc=\"center right\", fontsize=\"small\", bbox_to_anchor=(1.2,0.5))\n",
    "#plt.xticks(range(1,13),[\"Jan\",\"Feb\",\"Mar\",\"Apr\",\"May\",\"Jun\",\"Jul\",\"Aug\",\"Sep\",\"Oct\", \"Nov\",\"Dec\"],fontsize=\"small\")\n",
    "#plt.title(\"Monthly Crash Count over years\",weight=\"bold\")\n",
    "#plt.show()    \n",
    "    "
   ]
  },
  {
   "cell_type": "code",
   "execution_count": 62,
   "id": "21fd524c-b1dc-473c-bff1-6d5e436699f3",
   "metadata": {
    "scrolled": true
   },
   "outputs": [
    {
     "data": {
      "image/png": "[encoded data removed]",
      "text/plain": [
       "<Figure size 640x480 with 1 Axes>"
      ]
     },
     "metadata": {},
     "output_type": "display_data"
    }
   ],
   "source": [
    "#day_data=df[\"Day_of_Week\"].value_counts(normalize=True).reset_index(name=\"Crash_Percentage\")\n",
    "#plt.bar(day_data[\"Day_of_Week\"],day_data[\"Crash_Percentage\"]*100,color=colors) \n",
    "#plt.xlabel(\"Days of the Week\")\n",
    "#plt.ylabel(\"Percentage of Crashes\")\n",
    "#plt.xticks(range(7),[\"Mon\",\"Tue\",\"Wed\",\"Thr\",\"Fri\",\"Sat\",\"Sun\"])\n",
    "#plt.show()\n",
    "\n",
    "###code2\n",
    "#daily_crash_count=df[\"Crash_Date_Time\"].groupby(df[\"Day_of_Week\"]).count()\n",
    "#print(daily_crash_count)\n",
    "#total_crash=daily_crash_count.sum()\n",
    "#daily_crash_percent=(daily_crash_count/total_crash)*100\n",
    "#print(daily_crash_percent)\n",
    "\n"
   ]
  },
  {
   "cell_type": "code",
   "execution_count": 90,
   "id": "edfe3346-a027-4dd4-942d-59f361fe722b",
   "metadata": {},
   "outputs": [
    {
     "data": {
      "image/png": "[encoded data removed]",
      "text/plain": [
       "<Figure size 600x600 with 1 Axes>"
      ]
     },
     "metadata": {},
     "output_type": "display_data"
    }
   ],
   "source": [
    "driver_distraction_counts = df[\"Driver_Distracted_By\"].value_counts()\n",
    "#print(driver_distraction_counts)\n",
    "# Identify distractions with counts below 1000\n",
    "below_1000_distractions = driver_distraction_counts[driver_distraction_counts < 1000].index\n",
    "\n",
    "# Create a new category \"Other\" for distractions below 1000 using conditions\n",
    "df['Categorized_Distraction'] = df['Driver_Distracted_By'].where(~df['Driver_Distracted_By'].isin(below_1000_distractions), 'Other')\n",
    "\n",
    "# Calculate percentages after categorizing\n",
    "percentage_counts = df['Categorized_Distraction'].value_counts(normalize=True) * 100\n",
    "plt.figure(figsize=(6,6))\n",
    "colors=plt.cm.Set3.colors\n",
    "explode=[0.1 if cat==\"Other\" else 0 for cat in percentage_counts.index]\n",
    "plt.pie(percentage_counts, labels=None, autopct=\"%1.1f%%\", startangle=180,pctdistance=0.85,rotatelabels=True, explode=explode,colors=colors)\n",
    "plt.legend(percentage_counts.index, title=\"Distribution Categories\",fontsize=\"small\", loc=\"upper right\", bbox_to_anchor=(1.5,1))\n",
    "\n",
    "plt.show()"
   ]
  },
  {
   "cell_type": "code",
   "execution_count": 33,
   "id": "6c612ff7-3d46-4f75-8dd6-6a093e41c7a5",
   "metadata": {},
   "outputs": [
    {
     "data": {
      "text/plain": [
       "Vehicle_Body_Type\n",
       "PASSENGER CAR                                                118024\n",
       "(SPORT) UTILITY VEHICLE                                       15852\n",
       "PICKUP TRUCK                                                   6739\n",
       "VAN                                                            4921\n",
       "TRANSIT BUS                                                    3617\n",
       "SCHOOL BUS                                                     2934\n",
       "POLICE VEHICLE/NON EMERGENCY                                   2095\n",
       "OTHER LIGHT TRUCKS (10,000LBS (4,536KG) OR LESS)               1899\n",
       "CARGO VAN/LIGHT TRUCK 2 AXLES (OVER 10,000LBS (4,536 KG))      1844\n",
       "OTHER                                                          1531\n",
       "Name: count, dtype: int64"
      ]
     },
     "execution_count": 33,
     "metadata": {},
     "output_type": "execute_result"
    }
   ],
   "source": [
    "df['Vehicle_Body_Type'].value_counts(ascending=False).head(10)"
   ]
  },
  {
   "cell_type": "code",
   "execution_count": 34,
   "id": "ac6a91b3-83b9-4cbc-9ea0-f4c0d2f74c6d",
   "metadata": {},
   "outputs": [],
   "source": [
    "#df['Injury_Severity'].value_counts(ascending=False)"
   ]
  },
  {
   "cell_type": "code",
   "execution_count": 35,
   "id": "041d12e6-adeb-4a39-bdc1-41ce14c5ca77",
   "metadata": {},
   "outputs": [],
   "source": [
    "#day_week=df[\"Day_of_Week\"].value_counts(normalize=True).reset_index(name=\"Crash_Percentage\")\n",
    "#day_week.head(10)\n"
   ]
  },
  {
   "cell_type": "code",
   "execution_count": 36,
   "id": "10b9a347-14b9-41b7-92b3-1e3465b40df4",
   "metadata": {},
   "outputs": [
    {
     "name": "stdout",
     "output_type": "stream",
     "text": [
      "Day_of_Week\n",
      "Friday       27433\n",
      "Monday       24620\n",
      "Saturday     21343\n",
      "Sunday       17719\n",
      "Thursday     26521\n",
      "Tuesday      26695\n",
      "Wednesday    26264\n",
      "Name: Crash_Date_Time, dtype: int64\n",
      "Day_of_Week\n",
      "Friday       16.080776\n",
      "Monday       14.431841\n",
      "Saturday     12.510918\n",
      "Sunday       10.386588\n",
      "Thursday     15.546177\n",
      "Tuesday      15.648173\n",
      "Wednesday    15.395527\n",
      "Name: Crash_Date_Time, dtype: float64\n"
     ]
    }
   ],
   "source": [
    "daily_crash_count=df[\"Crash_Date_Time\"].groupby(df[\"Day_of_Week\"]).count()\n",
    "print(daily_crash_count)\n",
    "total_crash=daily_crash_count.sum()\n",
    "daily_crash_percent=(daily_crash_count/total_crash)*100\n",
    "print(daily_crash_percent)\n"
   ]
  },
  {
   "cell_type": "code",
   "execution_count": 37,
   "id": "ba1cffb2-c2a6-4585-b9b6-81d25254fcbb",
   "metadata": {},
   "outputs": [
    {
     "name": "stdout",
     "output_type": "stream",
     "text": [
      "Injury_Severity  FATAL INJURY  NO APPARENT INJURY  POSSIBLE INJURY  \\\n",
      "Day_of_Week                                                          \n",
      "Friday                     22               22616             2736   \n",
      "Monday                     24               20113             2554   \n",
      "Saturday                   26               17583             2053   \n",
      "Sunday                     34               14408             1805   \n",
      "Thursday                   16               21734             2687   \n",
      "Tuesday                    15               21917             2784   \n",
      "Wednesday                  16               21553             2707   \n",
      "\n",
      "Injury_Severity  SUSPECTED MINOR INJURY  SUSPECTED SERIOUS INJURY  \n",
      "Day_of_Week                                                        \n",
      "Friday                             1855                       204  \n",
      "Monday                             1707                       222  \n",
      "Saturday                           1495                       186  \n",
      "Sunday                             1290                       182  \n",
      "Thursday                           1867                       217  \n",
      "Tuesday                            1776                       203  \n",
      "Wednesday                          1797                       191  \n"
     ]
    },
    {
     "data": {
      "text/plain": [
       "Injury_Severity\n",
       "FATAL INJURY                int64\n",
       "NO APPARENT INJURY          int64\n",
       "POSSIBLE INJURY             int64\n",
       "SUSPECTED MINOR INJURY      int64\n",
       "SUSPECTED SERIOUS INJURY    int64\n",
       "dtype: object"
      ]
     },
     "execution_count": 37,
     "metadata": {},
     "output_type": "execute_result"
    }
   ],
   "source": [
    "limited_df = df.groupby('Day_of_Week')['Injury_Severity'].value_counts().unstack().fillna(0)\n",
    "print(limited_df)\n",
    "limited_df.dtypes"
   ]
  },
  {
   "cell_type": "code",
   "execution_count": 38,
   "id": "e1ce80d6-c6d6-429a-a8ea-6e87204ced79",
   "metadata": {},
   "outputs": [],
   "source": [
    "\n",
    "#plt.figure(figsize=(12,8))\n",
    "#sns.violinplot(x=\"Injury_Severity\", y=\"Speed_Limit\", data=df, hue=\"Driver_At_Fault\")\n",
    "#plt.title(\"Violin Plot of Speed Limit by Injury Severity\",weight=\"bold\")\n",
    "#sns.set_theme(style=\"white\")\n",
    "#plt.grid(False)\n",
    "#plt.xticks(fontsize=8, rotation=60)\n",
    "#plt.yticks(fontsize=8)\n",
    "#plt.show()               "
   ]
  },
  {
   "cell_type": "code",
   "execution_count": 11,
   "id": "d639534f-e93c-4212-8ca7-5a316e51d86f",
   "metadata": {},
   "outputs": [
    {
     "name": "stdout",
     "output_type": "stream",
     "text": [
      "vehicle damage extent:\n",
      " Vehicle_Damage_Extent\n",
      "DISABLING      61774\n",
      "FUNCTIONAL     44640\n",
      "SUPERFICIAL    43514\n",
      "DESTROYED       7509\n",
      "UNKNOWN         6554\n",
      "NO DAMAGE       6191\n",
      "OTHER            101\n",
      "Name: count, dtype: int64\n",
      "vehicle body type:\n",
      " Vehicle_Body_Type\n",
      "PASSENGER CAR                                                118024\n",
      "(SPORT) UTILITY VEHICLE                                       15852\n",
      "PICKUP TRUCK                                                   6739\n",
      "VAN                                                            4921\n",
      "TRANSIT BUS                                                    3617\n",
      "SCHOOL BUS                                                     2934\n",
      "POLICE VEHICLE/NON EMERGENCY                                   2095\n",
      "OTHER LIGHT TRUCKS (10,000LBS (4,536KG) OR LESS)               1899\n",
      "CARGO VAN/LIGHT TRUCK 2 AXLES (OVER 10,000LBS (4,536 KG))      1844\n",
      "OTHER                                                          1531\n",
      "POLICE VEHICLE/EMERGENCY                                       1487\n",
      "MEDIUM/HEAVY TRUCKS 3 AXLES (OVER 10,000LBS (4,536KG))         1463\n",
      "UNKNOWN                                                        1049\n",
      "MOTORCYCLE                                                      888\n",
      "STATION WAGON                                                   685\n",
      "TRUCK TRACTOR                                                   494\n",
      "AMBULANCE/EMERGENCY                                             460\n",
      "FIRE VEHICLE/EMERGENCY                                          434\n",
      "OTHER BUS                                                       417\n",
      "FIRE VEHICLE/NON EMERGENCY                                      295\n",
      "RECREATIONAL VEHICLE                                            196\n",
      "AMBULANCE/NON EMERGENCY                                         183\n",
      "SNOWMOBILE                                                      121\n",
      "ALL TERRAIN VEHICLE (ATV)                                       117\n",
      "MOPED                                                            86\n",
      "AUTOCYCLE                                                        41\n",
      "LOW SPEED VEHICLE                                                34\n",
      "CROSS COUNTRY BUS                                                30\n",
      "FARM VEHICLE                                                     21\n",
      "LIMOUSINE                                                        16\n",
      "Name: count, dtype: int64\n"
     ]
    }
   ],
   "source": [
    "\n",
    "print(\"vehicle damage extent:\\n\", df[\"Vehicle_Damage_Extent\"].value_counts())\n",
    "print(\"vehicle body type:\\n\", df[\"Vehicle_Body_Type\"].value_counts())"
   ]
  },
  {
   "cell_type": "code",
   "execution_count": 38,
   "id": "c0cf2d09-a1d5-4be1-9214-7ba5cf2b25aa",
   "metadata": {},
   "outputs": [
    {
     "data": {
      "image/png": "[encoded data removed]",
      "text/plain": [
       "<Figure size 1400x800 with 2 Axes>"
      ]
     },
     "metadata": {},
     "output_type": "display_data"
    }
   ],
   "source": [
    "heatmap_data = df.groupby(['Vehicle_Damage_Extent', 'Vehicle_Body_Type']).size().unstack()\n",
    "\n",
    "plt.figure(figsize=(14, 8))\n",
    "sns.heatmap(heatmap_data, cmap='Blues', annot=False, fmt='.0f', cbar_kws={'label': 'Count'},linewidths=.9)\n",
    "#sns.heatmap(heatmap_data, cmap='YlOrBr', annot=False, fmt='.0f', cbar_kws={'label': 'Count'}, #linewidths=.5, linecolor='lightgray')\n",
    "# Customize y-axis ticks\n",
    "plt.yticks(rotation=0, fontsize=8)\n",
    "\n",
    "# Customize x-axis ticks (adjust as needed)\n",
    "x_ticks = [label[:10] + '...' if len(label) > 10 else label for label in heatmap_data.columns]\n",
    "plt.xticks(ticks=range(len(x_ticks)), labels=x_ticks, rotation=45, fontsize=8, ha='center')\n",
    "plt.title('Vehicle Damage Extent vs. Vehicle Body Type', weight=\"bold\", )\n",
    "plt.tight_layout()\n",
    "plt.show()"
   ]
  },
  {
   "cell_type": "code",
   "execution_count": 43,
   "id": "16a845e4-2916-42d8-950b-8e674088c45d",
   "metadata": {},
   "outputs": [
    {
     "name": "stdout",
     "output_type": "stream",
     "text": [
      "Cramér's V: 0.17908640261652148\n"
     ]
    }
   ],
   "source": [
    "from scipy.stats import chi2_contingency\n",
    "def cramers_v(confusion_matrix):\n",
    "    chi2 = chi2_contingency(confusion_matrix)[0]\n",
    "    n = confusion_matrix.sum().sum()\n",
    "    phi2 = chi2 / n\n",
    "    r, k = confusion_matrix.shape\n",
    "    phi2corr = max(0, phi2 - ((k-1)*(r-1))/(n-1))\n",
    "    rcorr = r - ((r-1)**2)/(n-1)\n",
    "    kcorr = k - ((k-1)**2)/(n-1)\n",
    "    return np.sqrt(phi2corr / min((kcorr-1), (rcorr-1)))\n",
    "\n",
    "# Create a contingency table\n",
    "contingency_table = pd.crosstab(df['Vehicle_Damage_Extent'], df['Vehicle_Body_Type'])\n",
    "\n",
    "# Calculate Cramér's V\n",
    "cramers_value = cramers_v(contingency_table.values)\n",
    "\n",
    "# Display Cramér's V\n",
    "print(f\"Cramér's V: {cramers_value}\")\n"
   ]
  },
  {
   "cell_type": "code",
   "execution_count": 46,
   "id": "187b178e-e79f-462b-a2ca-c2d86c62f67b",
   "metadata": {},
   "outputs": [
    {
     "name": "stdout",
     "output_type": "stream",
     "text": [
      "Requirement already satisfied: plotly in ./anaconda3/lib/python3.11/site-packages (5.18.0)\n",
      "Requirement already satisfied: tenacity>=6.2.0 in ./anaconda3/lib/python3.11/site-packages (from plotly) (8.2.3)\n",
      "Requirement already satisfied: packaging in ./anaconda3/lib/python3.11/site-packages (from plotly) (23.1)\n"
     ]
    }
   ],
   "source": [
    "!pip install plotly"
   ]
  },
  {
   "cell_type": "code",
   "execution_count": 10,
   "id": "c99a96ad-3157-4248-b5e8-2eea5c83b3fe",
   "metadata": {},
   "outputs": [
    {
     "data": {
      "application/vnd.plotly.v1+json": {
       "config": {
        "plotlyServerURL": "https://plot.ly"
       },
       "data": [
        {
         "coloraxis": "coloraxis",
         "hovertemplate": "Vehicle Body Type: %{x}<br>Vehicle Damage Extent: %{y}<br>Count: %{z}<extra></extra>",
         "name": "0",
         "type": "heatmap",
         "x": [
          "(SPORT) UTILITY VEHICLE",
          "ALL TERRAIN VEHICLE (ATV)",
          "AMBULANCE/EMERGENCY",
          "AMBULANCE/NON EMERGENCY",
          "AUTOCYCLE",
          "CARGO VAN/LIGHT TRUCK 2 AXLES (OVER 10,000LBS (4,536 KG))",
          "CROSS COUNTRY BUS",
          "FARM VEHICLE",
          "FIRE VEHICLE/EMERGENCY",
          "FIRE VEHICLE/NON EMERGENCY",
          "LIMOUSINE",
          "LOW SPEED VEHICLE",
          "MEDIUM/HEAVY TRUCKS 3 AXLES (OVER 10,000LBS (4,536KG))",
          "MOPED",
          "MOTORCYCLE",
          "OTHER",
          "OTHER BUS",
          "OTHER LIGHT TRUCKS (10,000LBS (4,536KG) OR LESS)",
          "PASSENGER CAR",
          "PICKUP TRUCK",
          "POLICE VEHICLE/EMERGENCY",
          "POLICE VEHICLE/NON EMERGENCY",
          "RECREATIONAL VEHICLE",
          "SCHOOL BUS",
          "SNOWMOBILE",
          "STATION WAGON",
          "TRANSIT BUS",
          "TRUCK TRACTOR",
          "UNKNOWN",
          "VAN"
         ],
         "xaxis": "x",
         "y": [
          "DESTROYED",
          "DISABLING",
          "FUNCTIONAL",
          "NO DAMAGE",
          "OTHER",
          "SUPERFICIAL",
          "UNKNOWN"
         ],
         "yaxis": "y",
         "z": [
          [
           739,
           3,
           14,
           0,
           3,
           28,
           0,
           0,
           1,
           0,
           0,
           0,
           14,
           8,
           113,
           47,
           1,
           55,
           5947,
           238,
           36,
           23,
           12,
           4,
           9,
           21,
           5,
           4,
           3,
           176
          ],
          [
           5979,
           40,
           80,
           12,
           19,
           289,
           4,
           2,
           15,
           7,
           6,
           5,
           159,
           25,
           395,
           381,
           20,
           423,
           49459,
           1777,
           349,
           226,
           63,
           65,
           41,
           262,
           58,
           54,
           12,
           1494
          ],
          [
           4845,
           30,
           86,
           34,
           8,
           445,
           6,
           4,
           89,
           57,
           2,
           6,
           323,
           20,
           188,
           389,
           91,
           513,
           30609,
           2002,
           436,
           624,
           57,
           530,
           33,
           210,
           805,
           111,
           176,
           1489
          ],
          [
           411,
           9,
           40,
           19,
           0,
           215,
           1,
           2,
           73,
           47,
           1,
           11,
           236,
           8,
           19,
           136,
           51,
           208,
           2908,
           385,
           69,
           123,
           13,
           368,
           5,
           26,
           395,
           92,
           19,
           180
          ],
          [
           6,
           0,
           0,
           0,
           0,
           1,
           0,
           0,
           0,
           0,
           0,
           0,
           3,
           0,
           1,
           2,
           0,
           3,
           52,
           9,
           1,
           4,
           0,
           6,
           0,
           1,
           0,
           2,
           0,
           9
          ],
          [
           3455,
           29,
           228,
           115,
           11,
           759,
           19,
           12,
           253,
           184,
           7,
           11,
           676,
           23,
           156,
           516,
           248,
           606,
           25949,
           1993,
           581,
           1089,
           46,
           1942,
           30,
           148,
           2326,
           204,
           130,
           1401
          ],
          [
           398,
           6,
           11,
           3,
           0,
           103,
           0,
           0,
           2,
           0,
           0,
           1,
           48,
           1,
           15,
           58,
           5,
           82,
           2917,
           318,
           11,
           6,
           5,
           15,
           2,
           16,
           25,
           27,
           698,
           165
          ]
         ]
        }
       ],
       "layout": {
        "coloraxis": {
         "colorbar": {
          "title": {
           "text": "Count"
          }
         },
         "colorscale": [
          [
           0,
           "rgb(247,251,255)"
          ],
          [
           0.125,
           "rgb(222,235,247)"
          ],
          [
           0.25,
           "rgb(198,219,239)"
          ],
          [
           0.375,
           "rgb(158,202,225)"
          ],
          [
           0.5,
           "rgb(107,174,214)"
          ],
          [
           0.625,
           "rgb(66,146,198)"
          ],
          [
           0.75,
           "rgb(33,113,181)"
          ],
          [
           0.875,
           "rgb(8,81,156)"
          ],
          [
           1,
           "rgb(8,48,107)"
          ]
         ]
        },
        "template": {
         "data": {
          "bar": [
           {
            "error_x": {
             "color": "#2a3f5f"
            },
            "error_y": {
             "color": "#2a3f5f"
            },
            "marker": {
             "line": {
              "color": "#E5ECF6",
              "width": 0.5
             },
             "pattern": {
              "fillmode": "overlay",
              "size": 10,
              "solidity": 0.2
             }
            },
            "type": "bar"
           }
          ],
          "barpolar": [
           {
            "marker": {
             "line": {
              "color": "#E5ECF6",
              "width": 0.5
             },
             "pattern": {
              "fillmode": "overlay",
              "size": 10,
              "solidity": 0.2
             }
            },
            "type": "barpolar"
           }
          ],
          "carpet": [
           {
            "aaxis": {
             "endlinecolor": "#2a3f5f",
             "gridcolor": "white",
             "linecolor": "white",
             "minorgridcolor": "white",
             "startlinecolor": "#2a3f5f"
            },
            "baxis": {
             "endlinecolor": "#2a3f5f",
             "gridcolor": "white",
             "linecolor": "white",
             "minorgridcolor": "white",
             "startlinecolor": "#2a3f5f"
            },
            "type": "carpet"
           }
          ],
          "choropleth": [
           {
            "colorbar": {
             "outlinewidth": 0,
             "ticks": ""
            },
            "type": "choropleth"
           }
          ],
          "contour": [
           {
            "colorbar": {
             "outlinewidth": 0,
             "ticks": ""
            },
            "colorscale": [
             [
              0,
              "#0d0887"
             ],
             [
              0.1111111111111111,
              "#46039f"
             ],
             [
              0.2222222222222222,
              "#7201a8"
             ],
             [
              0.3333333333333333,
              "#9c179e"
             ],
             [
              0.4444444444444444,
              "#bd3786"
             ],
             [
              0.5555555555555556,
              "#d8576b"
             ],
             [
              0.6666666666666666,
              "#ed7953"
             ],
             [
              0.7777777777777778,
              "#fb9f3a"
             ],
             [
              0.8888888888888888,
              "#fdca26"
             ],
             [
              1,
              "#f0f921"
             ]
            ],
            "type": "contour"
           }
          ],
          "contourcarpet": [
           {
            "colorbar": {
             "outlinewidth": 0,
             "ticks": ""
            },
            "type": "contourcarpet"
           }
          ],
          "heatmap": [
           {
            "colorbar": {
             "outlinewidth": 0,
             "ticks": ""
            },
            "colorscale": [
             [
              0,
              "#0d0887"
             ],
             [
              0.1111111111111111,
              "#46039f"
             ],
             [
              0.2222222222222222,
              "#7201a8"
             ],
             [
              0.3333333333333333,
              "#9c179e"
             ],
             [
              0.4444444444444444,
              "#bd3786"
             ],
             [
              0.5555555555555556,
              "#d8576b"
             ],
             [
              0.6666666666666666,
              "#ed7953"
             ],
             [
              0.7777777777777778,
              "#fb9f3a"
             ],
             [
              0.8888888888888888,
              "#fdca26"
             ],
             [
              1,
              "#f0f921"
             ]
            ],
            "type": "heatmap"
           }
          ],
          "heatmapgl": [
           {
            "colorbar": {
             "outlinewidth": 0,
             "ticks": ""
            },
            "colorscale": [
             [
              0,
              "#0d0887"
             ],
             [
              0.1111111111111111,
              "#46039f"
             ],
             [
              0.2222222222222222,
              "#7201a8"
             ],
             [
              0.3333333333333333,
              "#9c179e"
             ],
             [
              0.4444444444444444,
              "#bd3786"
             ],
             [
              0.5555555555555556,
              "#d8576b"
             ],
             [
              0.6666666666666666,
              "#ed7953"
             ],
             [
              0.7777777777777778,
              "#fb9f3a"
             ],
             [
              0.8888888888888888,
              "#fdca26"
             ],
             [
              1,
              "#f0f921"
             ]
            ],
            "type": "heatmapgl"
           }
          ],
          "histogram": [
           {
            "marker": {
             "pattern": {
              "fillmode": "overlay",
              "size": 10,
              "solidity": 0.2
             }
            },
            "type": "histogram"
           }
          ],
          "histogram2d": [
           {
            "colorbar": {
             "outlinewidth": 0,
             "ticks": ""
            },
            "colorscale": [
             [
              0,
              "#0d0887"
             ],
             [
              0.1111111111111111,
              "#46039f"
             ],
             [
              0.2222222222222222,
              "#7201a8"
             ],
             [
              0.3333333333333333,
              "#9c179e"
             ],
             [
              0.4444444444444444,
              "#bd3786"
             ],
             [
              0.5555555555555556,
              "#d8576b"
             ],
             [
              0.6666666666666666,
              "#ed7953"
             ],
             [
              0.7777777777777778,
              "#fb9f3a"
             ],
             [
              0.8888888888888888,
              "#fdca26"
             ],
             [
              1,
              "#f0f921"
             ]
            ],
            "type": "histogram2d"
           }
          ],
          "histogram2dcontour": [
           {
            "colorbar": {
             "outlinewidth": 0,
             "ticks": ""
            },
            "colorscale": [
             [
              0,
              "#0d0887"
             ],
             [
              0.1111111111111111,
              "#46039f"
             ],
             [
              0.2222222222222222,
              "#7201a8"
             ],
             [
              0.3333333333333333,
              "#9c179e"
             ],
             [
              0.4444444444444444,
              "#bd3786"
             ],
             [
              0.5555555555555556,
              "#d8576b"
             ],
             [
              0.6666666666666666,
              "#ed7953"
             ],
             [
              0.7777777777777778,
              "#fb9f3a"
             ],
             [
              0.8888888888888888,
              "#fdca26"
             ],
             [
              1,
              "#f0f921"
             ]
            ],
            "type": "histogram2dcontour"
           }
          ],
          "mesh3d": [
           {
            "colorbar": {
             "outlinewidth": 0,
             "ticks": ""
            },
            "type": "mesh3d"
           }
          ],
          "parcoords": [
           {
            "line": {
             "colorbar": {
              "outlinewidth": 0,
              "ticks": ""
             }
            },
            "type": "parcoords"
           }
          ],
          "pie": [
           {
            "automargin": true,
            "type": "pie"
           }
          ],
          "scatter": [
           {
            "fillpattern": {
             "fillmode": "overlay",
             "size": 10,
             "solidity": 0.2
            },
            "type": "scatter"
           }
          ],
          "scatter3d": [
           {
            "line": {
             "colorbar": {
              "outlinewidth": 0,
              "ticks": ""
             }
            },
            "marker": {
             "colorbar": {
              "outlinewidth": 0,
              "ticks": ""
             }
            },
            "type": "scatter3d"
           }
          ],
          "scattercarpet": [
           {
            "marker": {
             "colorbar": {
              "outlinewidth": 0,
              "ticks": ""
             }
            },
            "type": "scattercarpet"
           }
          ],
          "scattergeo": [
           {
            "marker": {
             "colorbar": {
              "outlinewidth": 0,
              "ticks": ""
             }
            },
            "type": "scattergeo"
           }
          ],
          "scattergl": [
           {
            "marker": {
             "colorbar": {
              "outlinewidth": 0,
              "ticks": ""
             }
            },
            "type": "scattergl"
           }
          ],
          "scattermapbox": [
           {
            "marker": {
             "colorbar": {
              "outlinewidth": 0,
              "ticks": ""
             }
            },
            "type": "scattermapbox"
           }
          ],
          "scatterpolar": [
           {
            "marker": {
             "colorbar": {
              "outlinewidth": 0,
              "ticks": ""
             }
            },
            "type": "scatterpolar"
           }
          ],
          "scatterpolargl": [
           {
            "marker": {
             "colorbar": {
              "outlinewidth": 0,
              "ticks": ""
             }
            },
            "type": "scatterpolargl"
           }
          ],
          "scatterternary": [
           {
            "marker": {
             "colorbar": {
              "outlinewidth": 0,
              "ticks": ""
             }
            },
            "type": "scatterternary"
           }
          ],
          "surface": [
           {
            "colorbar": {
             "outlinewidth": 0,
             "ticks": ""
            },
            "colorscale": [
             [
              0,
              "#0d0887"
             ],
             [
              0.1111111111111111,
              "#46039f"
             ],
             [
              0.2222222222222222,
              "#7201a8"
             ],
             [
              0.3333333333333333,
              "#9c179e"
             ],
             [
              0.4444444444444444,
              "#bd3786"
             ],
             [
              0.5555555555555556,
              "#d8576b"
             ],
             [
              0.6666666666666666,
              "#ed7953"
             ],
             [
              0.7777777777777778,
              "#fb9f3a"
             ],
             [
              0.8888888888888888,
              "#fdca26"
             ],
             [
              1,
              "#f0f921"
             ]
            ],
            "type": "surface"
           }
          ],
          "table": [
           {
            "cells": {
             "fill": {
              "color": "#EBF0F8"
             },
             "line": {
              "color": "white"
             }
            },
            "header": {
             "fill": {
              "color": "#C8D4E3"
             },
             "line": {
              "color": "white"
             }
            },
            "type": "table"
           }
          ]
         },
         "layout": {
          "annotationdefaults": {
           "arrowcolor": "#2a3f5f",
           "arrowhead": 0,
           "arrowwidth": 1
          },
          "autotypenumbers": "strict",
          "coloraxis": {
           "colorbar": {
            "outlinewidth": 0,
            "ticks": ""
           }
          },
          "colorscale": {
           "diverging": [
            [
             0,
             "#8e0152"
            ],
            [
             0.1,
             "#c51b7d"
            ],
            [
             0.2,
             "#de77ae"
            ],
            [
             0.3,
             "#f1b6da"
            ],
            [
             0.4,
             "#fde0ef"
            ],
            [
             0.5,
             "#f7f7f7"
            ],
            [
             0.6,
             "#e6f5d0"
            ],
            [
             0.7,
             "#b8e186"
            ],
            [
             0.8,
             "#7fbc41"
            ],
            [
             0.9,
             "#4d9221"
            ],
            [
             1,
             "#276419"
            ]
           ],
           "sequential": [
            [
             0,
             "#0d0887"
            ],
            [
             0.1111111111111111,
             "#46039f"
            ],
            [
             0.2222222222222222,
             "#7201a8"
            ],
            [
             0.3333333333333333,
             "#9c179e"
            ],
            [
             0.4444444444444444,
             "#bd3786"
            ],
            [
             0.5555555555555556,
             "#d8576b"
            ],
            [
             0.6666666666666666,
             "#ed7953"
            ],
            [
             0.7777777777777778,
             "#fb9f3a"
            ],
            [
             0.8888888888888888,
             "#fdca26"
            ],
            [
             1,
             "#f0f921"
            ]
           ],
           "sequentialminus": [
            [
             0,
             "#0d0887"
            ],
            [
             0.1111111111111111,
             "#46039f"
            ],
            [
             0.2222222222222222,
             "#7201a8"
            ],
            [
             0.3333333333333333,
             "#9c179e"
            ],
            [
             0.4444444444444444,
             "#bd3786"
            ],
            [
             0.5555555555555556,
             "#d8576b"
            ],
            [
             0.6666666666666666,
             "#ed7953"
            ],
            [
             0.7777777777777778,
             "#fb9f3a"
            ],
            [
             0.8888888888888888,
             "#fdca26"
            ],
            [
             1,
             "#f0f921"
            ]
           ]
          },
          "colorway": [
           "#636efa",
           "#EF553B",
           "#00cc96",
           "#ab63fa",
           "#FFA15A",
           "#19d3f3",
           "#FF6692",
           "#B6E880",
           "#FF97FF",
           "#FECB52"
          ],
          "font": {
           "color": "#2a3f5f"
          },
          "geo": {
           "bgcolor": "white",
           "lakecolor": "white",
           "landcolor": "#E5ECF6",
           "showlakes": true,
           "showland": true,
           "subunitcolor": "white"
          },
          "hoverlabel": {
           "align": "left"
          },
          "hovermode": "closest",
          "mapbox": {
           "style": "light"
          },
          "paper_bgcolor": "white",
          "plot_bgcolor": "#E5ECF6",
          "polar": {
           "angularaxis": {
            "gridcolor": "white",
            "linecolor": "white",
            "ticks": ""
           },
           "bgcolor": "#E5ECF6",
           "radialaxis": {
            "gridcolor": "white",
            "linecolor": "white",
            "ticks": ""
           }
          },
          "scene": {
           "xaxis": {
            "backgroundcolor": "#E5ECF6",
            "gridcolor": "white",
            "gridwidth": 2,
            "linecolor": "white",
            "showbackground": true,
            "ticks": "",
            "zerolinecolor": "white"
           },
           "yaxis": {
            "backgroundcolor": "#E5ECF6",
            "gridcolor": "white",
            "gridwidth": 2,
            "linecolor": "white",
            "showbackground": true,
            "ticks": "",
            "zerolinecolor": "white"
           },
           "zaxis": {
            "backgroundcolor": "#E5ECF6",
            "gridcolor": "white",
            "gridwidth": 2,
            "linecolor": "white",
            "showbackground": true,
            "ticks": "",
            "zerolinecolor": "white"
           }
          },
          "shapedefaults": {
           "line": {
            "color": "#2a3f5f"
           }
          },
          "ternary": {
           "aaxis": {
            "gridcolor": "white",
            "linecolor": "white",
            "ticks": ""
           },
           "baxis": {
            "gridcolor": "white",
            "linecolor": "white",
            "ticks": ""
           },
           "bgcolor": "#E5ECF6",
           "caxis": {
            "gridcolor": "white",
            "linecolor": "white",
            "ticks": ""
           }
          },
          "title": {
           "x": 0.05
          },
          "xaxis": {
           "automargin": true,
           "gridcolor": "white",
           "linecolor": "white",
           "ticks": "",
           "title": {
            "standoff": 15
           },
           "zerolinecolor": "white",
           "zerolinewidth": 2
          },
          "yaxis": {
           "automargin": true,
           "gridcolor": "white",
           "linecolor": "white",
           "ticks": "",
           "title": {
            "standoff": 15
           },
           "zerolinecolor": "white",
           "zerolinewidth": 2
          }
         }
        },
        "title": {
         "text": "Vehicle Damage Extent vs. Vehicle Body Type - Contingency Table"
        },
        "xaxis": {
         "anchor": "y",
         "constrain": "domain",
         "domain": [
          0,
          1
         ],
         "scaleanchor": "y",
         "title": {
          "text": "Vehicle Body Type"
         }
        },
        "yaxis": {
         "anchor": "x",
         "autorange": "reversed",
         "constrain": "domain",
         "domain": [
          0,
          1
         ],
         "title": {
          "text": "Vehicle Damage Extent"
         }
        }
       }
      },
      "text/html": [
       "<div>                            <div id=\"3234b00c-b5c7-46a6-bbce-11bcadaaadc8\" class=\"plotly-graph-div\" style=\"height:525px; width:100%;\"></div>            <script type=\"text/javascript\">                require([\"plotly\"], function(Plotly) {                    window.PLOTLYENV=window.PLOTLYENV || {};                                    if (document.getElementById(\"3234b00c-b5c7-46a6-bbce-11bcadaaadc8\")) {                    Plotly.newPlot(                        \"3234b00c-b5c7-46a6-bbce-11bcadaaadc8\",                        [{\"coloraxis\":\"coloraxis\",\"name\":\"0\",\"x\":[\"(SPORT) UTILITY VEHICLE\",\"ALL TERRAIN VEHICLE (ATV)\",\"AMBULANCE\\u002fEMERGENCY\",\"AMBULANCE\\u002fNON EMERGENCY\",\"AUTOCYCLE\",\"CARGO VAN\\u002fLIGHT TRUCK 2 AXLES (OVER 10,000LBS (4,536 KG))\",\"CROSS COUNTRY BUS\",\"FARM VEHICLE\",\"FIRE VEHICLE\\u002fEMERGENCY\",\"FIRE VEHICLE\\u002fNON EMERGENCY\",\"LIMOUSINE\",\"LOW SPEED VEHICLE\",\"MEDIUM\\u002fHEAVY TRUCKS 3 AXLES (OVER 10,000LBS (4,536KG))\",\"MOPED\",\"MOTORCYCLE\",\"OTHER\",\"OTHER BUS\",\"OTHER LIGHT TRUCKS (10,000LBS (4,536KG) OR LESS)\",\"PASSENGER CAR\",\"PICKUP TRUCK\",\"POLICE VEHICLE\\u002fEMERGENCY\",\"POLICE VEHICLE\\u002fNON EMERGENCY\",\"RECREATIONAL VEHICLE\",\"SCHOOL BUS\",\"SNOWMOBILE\",\"STATION WAGON\",\"TRANSIT BUS\",\"TRUCK TRACTOR\",\"UNKNOWN\",\"VAN\"],\"y\":[\"DESTROYED\",\"DISABLING\",\"FUNCTIONAL\",\"NO DAMAGE\",\"OTHER\",\"SUPERFICIAL\",\"UNKNOWN\"],\"z\":[[739,3,14,0,3,28,0,0,1,0,0,0,14,8,113,47,1,55,5947,238,36,23,12,4,9,21,5,4,3,176],[5979,40,80,12,19,289,4,2,15,7,6,5,159,25,395,381,20,423,49459,1777,349,226,63,65,41,262,58,54,12,1494],[4845,30,86,34,8,445,6,4,89,57,2,6,323,20,188,389,91,513,30609,2002,436,624,57,530,33,210,805,111,176,1489],[411,9,40,19,0,215,1,2,73,47,1,11,236,8,19,136,51,208,2908,385,69,123,13,368,5,26,395,92,19,180],[6,0,0,0,0,1,0,0,0,0,0,0,3,0,1,2,0,3,52,9,1,4,0,6,0,1,0,2,0,9],[3455,29,228,115,11,759,19,12,253,184,7,11,676,23,156,516,248,606,25949,1993,581,1089,46,1942,30,148,2326,204,130,1401],[398,6,11,3,0,103,0,0,2,0,0,1,48,1,15,58,5,82,2917,318,11,6,5,15,2,16,25,27,698,165]],\"type\":\"heatmap\",\"xaxis\":\"x\",\"yaxis\":\"y\",\"hovertemplate\":\"Vehicle Body Type: %{x}\\u003cbr\\u003eVehicle Damage Extent: %{y}\\u003cbr\\u003eCount: %{z}\\u003cextra\\u003e\\u003c\\u002fextra\\u003e\"}],                        {\"template\":{\"data\":{\"histogram2dcontour\":[{\"type\":\"histogram2dcontour\",\"colorbar\":{\"outlinewidth\":0,\"ticks\":\"\"},\"colorscale\":[[0.0,\"#0d0887\"],[0.1111111111111111,\"#46039f\"],[0.2222222222222222,\"#7201a8\"],[0.3333333333333333,\"#9c179e\"],[0.4444444444444444,\"#bd3786\"],[0.5555555555555556,\"#d8576b\"],[0.6666666666666666,\"#ed7953\"],[0.7777777777777778,\"#fb9f3a\"],[0.8888888888888888,\"#fdca26\"],[1.0,\"#f0f921\"]]}],\"choropleth\":[{\"type\":\"choropleth\",\"colorbar\":{\"outlinewidth\":0,\"ticks\":\"\"}}],\"histogram2d\":[{\"type\":\"histogram2d\",\"colorbar\":{\"outlinewidth\":0,\"ticks\":\"\"},\"colorscale\":[[0.0,\"#0d0887\"],[0.1111111111111111,\"#46039f\"],[0.2222222222222222,\"#7201a8\"],[0.3333333333333333,\"#9c179e\"],[0.4444444444444444,\"#bd3786\"],[0.5555555555555556,\"#d8576b\"],[0.6666666666666666,\"#ed7953\"],[0.7777777777777778,\"#fb9f3a\"],[0.8888888888888888,\"#fdca26\"],[1.0,\"#f0f921\"]]}],\"heatmap\":[{\"type\":\"heatmap\",\"colorbar\":{\"outlinewidth\":0,\"ticks\":\"\"},\"colorscale\":[[0.0,\"#0d0887\"],[0.1111111111111111,\"#46039f\"],[0.2222222222222222,\"#7201a8\"],[0.3333333333333333,\"#9c179e\"],[0.4444444444444444,\"#bd3786\"],[0.5555555555555556,\"#d8576b\"],[0.6666666666666666,\"#ed7953\"],[0.7777777777777778,\"#fb9f3a\"],[0.8888888888888888,\"#fdca26\"],[1.0,\"#f0f921\"]]}],\"heatmapgl\":[{\"type\":\"heatmapgl\",\"colorbar\":{\"outlinewidth\":0,\"ticks\":\"\"},\"colorscale\":[[0.0,\"#0d0887\"],[0.1111111111111111,\"#46039f\"],[0.2222222222222222,\"#7201a8\"],[0.3333333333333333,\"#9c179e\"],[0.4444444444444444,\"#bd3786\"],[0.5555555555555556,\"#d8576b\"],[0.6666666666666666,\"#ed7953\"],[0.7777777777777778,\"#fb9f3a\"],[0.8888888888888888,\"#fdca26\"],[1.0,\"#f0f921\"]]}],\"contourcarpet\":[{\"type\":\"contourcarpet\",\"colorbar\":{\"outlinewidth\":0,\"ticks\":\"\"}}],\"contour\":[{\"type\":\"contour\",\"colorbar\":{\"outlinewidth\":0,\"ticks\":\"\"},\"colorscale\":[[0.0,\"#0d0887\"],[0.1111111111111111,\"#46039f\"],[0.2222222222222222,\"#7201a8\"],[0.3333333333333333,\"#9c179e\"],[0.4444444444444444,\"#bd3786\"],[0.5555555555555556,\"#d8576b\"],[0.6666666666666666,\"#ed7953\"],[0.7777777777777778,\"#fb9f3a\"],[0.8888888888888888,\"#fdca26\"],[1.0,\"#f0f921\"]]}],\"surface\":[{\"type\":\"surface\",\"colorbar\":{\"outlinewidth\":0,\"ticks\":\"\"},\"colorscale\":[[0.0,\"#0d0887\"],[0.1111111111111111,\"#46039f\"],[0.2222222222222222,\"#7201a8\"],[0.3333333333333333,\"#9c179e\"],[0.4444444444444444,\"#bd3786\"],[0.5555555555555556,\"#d8576b\"],[0.6666666666666666,\"#ed7953\"],[0.7777777777777778,\"#fb9f3a\"],[0.8888888888888888,\"#fdca26\"],[1.0,\"#f0f921\"]]}],\"mesh3d\":[{\"type\":\"mesh3d\",\"colorbar\":{\"outlinewidth\":0,\"ticks\":\"\"}}],\"scatter\":[{\"fillpattern\":{\"fillmode\":\"overlay\",\"size\":10,\"solidity\":0.2},\"type\":\"scatter\"}],\"parcoords\":[{\"type\":\"parcoords\",\"line\":{\"colorbar\":{\"outlinewidth\":0,\"ticks\":\"\"}}}],\"scatterpolargl\":[{\"type\":\"scatterpolargl\",\"marker\":{\"colorbar\":{\"outlinewidth\":0,\"ticks\":\"\"}}}],\"bar\":[{\"error_x\":{\"color\":\"#2a3f5f\"},\"error_y\":{\"color\":\"#2a3f5f\"},\"marker\":{\"line\":{\"color\":\"#E5ECF6\",\"width\":0.5},\"pattern\":{\"fillmode\":\"overlay\",\"size\":10,\"solidity\":0.2}},\"type\":\"bar\"}],\"scattergeo\":[{\"type\":\"scattergeo\",\"marker\":{\"colorbar\":{\"outlinewidth\":0,\"ticks\":\"\"}}}],\"scatterpolar\":[{\"type\":\"scatterpolar\",\"marker\":{\"colorbar\":{\"outlinewidth\":0,\"ticks\":\"\"}}}],\"histogram\":[{\"marker\":{\"pattern\":{\"fillmode\":\"overlay\",\"size\":10,\"solidity\":0.2}},\"type\":\"histogram\"}],\"scattergl\":[{\"type\":\"scattergl\",\"marker\":{\"colorbar\":{\"outlinewidth\":0,\"ticks\":\"\"}}}],\"scatter3d\":[{\"type\":\"scatter3d\",\"line\":{\"colorbar\":{\"outlinewidth\":0,\"ticks\":\"\"}},\"marker\":{\"colorbar\":{\"outlinewidth\":0,\"ticks\":\"\"}}}],\"scattermapbox\":[{\"type\":\"scattermapbox\",\"marker\":{\"colorbar\":{\"outlinewidth\":0,\"ticks\":\"\"}}}],\"scatterternary\":[{\"type\":\"scatterternary\",\"marker\":{\"colorbar\":{\"outlinewidth\":0,\"ticks\":\"\"}}}],\"scattercarpet\":[{\"type\":\"scattercarpet\",\"marker\":{\"colorbar\":{\"outlinewidth\":0,\"ticks\":\"\"}}}],\"carpet\":[{\"aaxis\":{\"endlinecolor\":\"#2a3f5f\",\"gridcolor\":\"white\",\"linecolor\":\"white\",\"minorgridcolor\":\"white\",\"startlinecolor\":\"#2a3f5f\"},\"baxis\":{\"endlinecolor\":\"#2a3f5f\",\"gridcolor\":\"white\",\"linecolor\":\"white\",\"minorgridcolor\":\"white\",\"startlinecolor\":\"#2a3f5f\"},\"type\":\"carpet\"}],\"table\":[{\"cells\":{\"fill\":{\"color\":\"#EBF0F8\"},\"line\":{\"color\":\"white\"}},\"header\":{\"fill\":{\"color\":\"#C8D4E3\"},\"line\":{\"color\":\"white\"}},\"type\":\"table\"}],\"barpolar\":[{\"marker\":{\"line\":{\"color\":\"#E5ECF6\",\"width\":0.5},\"pattern\":{\"fillmode\":\"overlay\",\"size\":10,\"solidity\":0.2}},\"type\":\"barpolar\"}],\"pie\":[{\"automargin\":true,\"type\":\"pie\"}]},\"layout\":{\"autotypenumbers\":\"strict\",\"colorway\":[\"#636efa\",\"#EF553B\",\"#00cc96\",\"#ab63fa\",\"#FFA15A\",\"#19d3f3\",\"#FF6692\",\"#B6E880\",\"#FF97FF\",\"#FECB52\"],\"font\":{\"color\":\"#2a3f5f\"},\"hovermode\":\"closest\",\"hoverlabel\":{\"align\":\"left\"},\"paper_bgcolor\":\"white\",\"plot_bgcolor\":\"#E5ECF6\",\"polar\":{\"bgcolor\":\"#E5ECF6\",\"angularaxis\":{\"gridcolor\":\"white\",\"linecolor\":\"white\",\"ticks\":\"\"},\"radialaxis\":{\"gridcolor\":\"white\",\"linecolor\":\"white\",\"ticks\":\"\"}},\"ternary\":{\"bgcolor\":\"#E5ECF6\",\"aaxis\":{\"gridcolor\":\"white\",\"linecolor\":\"white\",\"ticks\":\"\"},\"baxis\":{\"gridcolor\":\"white\",\"linecolor\":\"white\",\"ticks\":\"\"},\"caxis\":{\"gridcolor\":\"white\",\"linecolor\":\"white\",\"ticks\":\"\"}},\"coloraxis\":{\"colorbar\":{\"outlinewidth\":0,\"ticks\":\"\"}},\"colorscale\":{\"sequential\":[[0.0,\"#0d0887\"],[0.1111111111111111,\"#46039f\"],[0.2222222222222222,\"#7201a8\"],[0.3333333333333333,\"#9c179e\"],[0.4444444444444444,\"#bd3786\"],[0.5555555555555556,\"#d8576b\"],[0.6666666666666666,\"#ed7953\"],[0.7777777777777778,\"#fb9f3a\"],[0.8888888888888888,\"#fdca26\"],[1.0,\"#f0f921\"]],\"sequentialminus\":[[0.0,\"#0d0887\"],[0.1111111111111111,\"#46039f\"],[0.2222222222222222,\"#7201a8\"],[0.3333333333333333,\"#9c179e\"],[0.4444444444444444,\"#bd3786\"],[0.5555555555555556,\"#d8576b\"],[0.6666666666666666,\"#ed7953\"],[0.7777777777777778,\"#fb9f3a\"],[0.8888888888888888,\"#fdca26\"],[1.0,\"#f0f921\"]],\"diverging\":[[0,\"#8e0152\"],[0.1,\"#c51b7d\"],[0.2,\"#de77ae\"],[0.3,\"#f1b6da\"],[0.4,\"#fde0ef\"],[0.5,\"#f7f7f7\"],[0.6,\"#e6f5d0\"],[0.7,\"#b8e186\"],[0.8,\"#7fbc41\"],[0.9,\"#4d9221\"],[1,\"#276419\"]]},\"xaxis\":{\"gridcolor\":\"white\",\"linecolor\":\"white\",\"ticks\":\"\",\"title\":{\"standoff\":15},\"zerolinecolor\":\"white\",\"automargin\":true,\"zerolinewidth\":2},\"yaxis\":{\"gridcolor\":\"white\",\"linecolor\":\"white\",\"ticks\":\"\",\"title\":{\"standoff\":15},\"zerolinecolor\":\"white\",\"automargin\":true,\"zerolinewidth\":2},\"scene\":{\"xaxis\":{\"backgroundcolor\":\"#E5ECF6\",\"gridcolor\":\"white\",\"linecolor\":\"white\",\"showbackground\":true,\"ticks\":\"\",\"zerolinecolor\":\"white\",\"gridwidth\":2},\"yaxis\":{\"backgroundcolor\":\"#E5ECF6\",\"gridcolor\":\"white\",\"linecolor\":\"white\",\"showbackground\":true,\"ticks\":\"\",\"zerolinecolor\":\"white\",\"gridwidth\":2},\"zaxis\":{\"backgroundcolor\":\"#E5ECF6\",\"gridcolor\":\"white\",\"linecolor\":\"white\",\"showbackground\":true,\"ticks\":\"\",\"zerolinecolor\":\"white\",\"gridwidth\":2}},\"shapedefaults\":{\"line\":{\"color\":\"#2a3f5f\"}},\"annotationdefaults\":{\"arrowcolor\":\"#2a3f5f\",\"arrowhead\":0,\"arrowwidth\":1},\"geo\":{\"bgcolor\":\"white\",\"landcolor\":\"#E5ECF6\",\"subunitcolor\":\"white\",\"showland\":true,\"showlakes\":true,\"lakecolor\":\"white\"},\"title\":{\"x\":0.05},\"mapbox\":{\"style\":\"light\"}}},\"xaxis\":{\"anchor\":\"y\",\"domain\":[0.0,1.0],\"scaleanchor\":\"y\",\"constrain\":\"domain\",\"title\":{\"text\":\"Vehicle Body Type\"}},\"yaxis\":{\"anchor\":\"x\",\"domain\":[0.0,1.0],\"autorange\":\"reversed\",\"constrain\":\"domain\",\"title\":{\"text\":\"Vehicle Damage Extent\"}},\"coloraxis\":{\"colorbar\":{\"title\":{\"text\":\"Count\"}},\"colorscale\":[[0.0,\"rgb(247,251,255)\"],[0.125,\"rgb(222,235,247)\"],[0.25,\"rgb(198,219,239)\"],[0.375,\"rgb(158,202,225)\"],[0.5,\"rgb(107,174,214)\"],[0.625,\"rgb(66,146,198)\"],[0.75,\"rgb(33,113,181)\"],[0.875,\"rgb(8,81,156)\"],[1.0,\"rgb(8,48,107)\"]]},\"title\":{\"text\":\"Vehicle Damage Extent vs. Vehicle Body Type - Contingency Table\"}},                        {\"responsive\": true}                    ).then(function(){\n",
       "                            \n",
       "var gd = document.getElementById('3234b00c-b5c7-46a6-bbce-11bcadaaadc8');\n",
       "var x = new MutationObserver(function (mutations, observer) {{\n",
       "        var display = window.getComputedStyle(gd).display;\n",
       "        if (!display || display === 'none') {{\n",
       "            console.log([gd, 'removed!']);\n",
       "            Plotly.purge(gd);\n",
       "            observer.disconnect();\n",
       "        }}\n",
       "}});\n",
       "\n",
       "// Listen for the removal of the full notebook cells\n",
       "var notebookContainer = gd.closest('#notebook-container');\n",
       "if (notebookContainer) {{\n",
       "    x.observe(notebookContainer, {childList: true});\n",
       "}}\n",
       "\n",
       "// Listen for the clearing of the current output cell\n",
       "var outputEl = gd.closest('.output');\n",
       "if (outputEl) {{\n",
       "    x.observe(outputEl, {childList: true});\n",
       "}}\n",
       "\n",
       "                        })                };                });            </script>        </div>"
      ]
     },
     "metadata": {},
     "output_type": "display_data"
    }
   ],
   "source": [
    "import plotly.express as px\n",
    "# Create a contingency table\n",
    "contingency_table = pd.crosstab(df['Vehicle_Damage_Extent'], df['Vehicle_Body_Type'])\n",
    "\n",
    "# Create an interactive heatmap with hover information\n",
    "fig = px.imshow(contingency_table.values,\n",
    "                labels=dict(x=\"Vehicle Body Type\", y=\"Vehicle Damage Extent\", color=\"Count\"),\n",
    "                x=list(contingency_table.columns),\n",
    "                y=list(contingency_table.index),\n",
    "                color_continuous_scale=\"Blues\",\n",
    "                title='Vehicle Damage Extent vs. Vehicle Body Type - Contingency Table')\n",
    "\n",
    "# Show the figure\n",
    "fig.show()"
   ]
  },
  {
   "cell_type": "code",
   "execution_count": 15,
   "id": "cb0af350-039f-4755-ae96-438d4b8fcb04",
   "metadata": {},
   "outputs": [
    {
     "data": {
      "image/png": "[encoded data removed]",
      "text/plain": [
       "<Figure size 1000x800 with 1 Axes>"
      ]
     },
     "metadata": {},
     "output_type": "display_data"
    }
   ],
   "source": [
    "plt.figure(figsize=(10,8))\n",
    "sns.set_palette(\"viridis\")\n",
    "sns.scatterplot(x=\"Longitude\",y=\"Latitude\",hue=\"Vehicle_Movement\",data=df,alpha=0.7)\n",
    "#plt.scatter(df[\"Longitude\"], df[\"Latitude\"],alpha=0.5)\n",
    "#plt.title(\"Scatter Plot of Latitude vs. Longitude\", weight=\"bold\")\n",
    "plt.xlabel(\"Longitude\")\n",
    "plt.ylabel(\"Latitude\")\n",
    "plt.legend(title=\"Vehicle_Movement\", bbox_to_anchor=(1.05,1),loc=\"upper left\")\n",
    "plt.grid(True)\n",
    "plt.show()"
   ]
  },
  {
   "cell_type": "code",
   "execution_count": 14,
   "id": "ca8adf96-a856-4b62-a04e-4c7bae52314a",
   "metadata": {},
   "outputs": [
    {
     "data": {
      "text/plain": [
       "Vehicle_Movement\n",
       "MOVING CONSTANT SPEED      66563\n",
       "SLOWING OR STOPPING        24297\n",
       "STOPPED IN TRAFFIC LANE    18262\n",
       "MAKING LEFT TURN           16457\n",
       "ACCELERATING                9571\n",
       "BACKING                     5747\n",
       "MAKING RIGHT TURN           5366\n",
       "CHANGING LANES              4643\n",
       "STARTING FROM LANE          4474\n",
       "UNKNOWN                     2786\n",
       "PARKED                      2662\n",
       "PARKING                     1921\n",
       "STARTING FROM PARKED        1881\n",
       "MAKING U TURN               1215\n",
       "PASSING                      937\n",
       "OTHER                        894\n",
       "ENTERING TRAFFIC LANE        816\n",
       "SKIDDING                     681\n",
       "NEGOTIATING A CURVE          538\n",
       "RIGHT TURN ON RED            262\n",
       "LEAVING TRAFFIC LANE         206\n",
       "DRIVERLESS MOVING VEH.        37\n",
       "Name: count, dtype: int64"
      ]
     },
     "execution_count": 14,
     "metadata": {},
     "output_type": "execute_result"
    }
   ],
   "source": [
    "df[\"Vehicle_Movement\"].value_counts()"
   ]
  },
  {
   "cell_type": "code",
   "execution_count": null,
   "id": "1a9ed4c9-26cf-49ec-bff5-28adfbad7099",
   "metadata": {},
   "outputs": [],
   "source": [
    "import geopandas as gpd\n",
    "\n",
    "# Load world map shapefile\n",
    "world = gpd.read_file('path/to/your/shapefile/ne_110m_admin_0_countries.shp')\n",
    "\n",
    "# Merge DataFrame with world map data\n",
    "merged_data = world.merge(df, left_on='name', right_on='Country_Column')\n",
    "\n",
    "# Plot the map with markers\n",
    "fig, ax = plt.subplots(figsize=(15, 10))\n",
    "merged_data.plot(ax=ax, color='lightgrey')\n",
    "\n",
    "# Add markers for each data point\n",
    "for index, row in df.iterrows():\n",
    "    plt.scatter(row['Longitude'], row['Latitude'], s=50, color='red', alpha=0.7)\n",
    "    plt.text(row['Longitude'] + 1, row['Latitude'], row['Location'], fontsize=8)\n",
    "\n",
    "plt.title('Geographical Distribution of Data')\n",
    "plt.xlabel('Longitude')\n",
    "plt.ylabel('Latitude')\n",
    "plt.show()"
   ]
  }
 ],
 "metadata": {
  "kernelspec": {
   "display_name": "Python 3 (ipykernel)",
   "language": "python",
   "name": "python3"
  },
  "language_info": {
   "codemirror_mode": {
    "name": "ipython",
    "version": 3
   },
   "file_extension": ".py",
   "mimetype": "text/x-python",
   "name": "python",
   "nbconvert_exporter": "python",
   "pygments_lexer": "ipython3",
   "version": "3.11.5"
  }
 },
 "nbformat": 4,
 "nbformat_minor": 5
}
